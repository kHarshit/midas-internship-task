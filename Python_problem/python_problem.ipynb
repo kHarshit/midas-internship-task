{
 "cells": [
  {
   "cell_type": "code",
   "execution_count": 2,
   "metadata": {
    "ExecuteTime": {
     "end_time": "2019-04-07T07:47:43.209959Z",
     "start_time": "2019-04-07T07:47:38.150541Z"
    }
   },
   "outputs": [],
   "source": [
    "import pandas as pd\n",
    "import tweepy\n",
    "from pprint import pprint"
   ]
  },
  {
   "cell_type": "markdown",
   "metadata": {},
   "source": [
    "# Index\n",
    "\n",
    "* [Part 1](#Part-1)\n",
    "    * [Using (old) tweet extraction way for EDA](#Using-(old)-tweet-extraction-way-for-EDA)\n",
    "    * [Using Cursor](#Using-Cursor)\n",
    "* [Part 2](#Part-2)"
   ]
  },
  {
   "cell_type": "markdown",
   "metadata": {},
   "source": [
    "**Part 1:** You have to write a python script which can fetch all the tweets(as many as allowed by Twitter\n",
    "API) done by `@midasIIITD` twitter handle and dump the responses into JSONlines file.  \n",
    "\n",
    "**Part 2:** The other part of your script should be able to parse these JSONline files to display the\n",
    "following for every tweet in a tabular format.\n",
    "* The text of the tweet.  \n",
    "* Date and time of the tweet.  \n",
    "* The number of favorites/likes.  \n",
    "* The number of retweets.  \n",
    "* Number of Images present in Tweet. If no image returns None."
   ]
  },
  {
   "cell_type": "markdown",
   "metadata": {
    "ExecuteTime": {
     "end_time": "2019-04-07T07:28:26.685584Z",
     "start_time": "2019-04-07T07:28:26.675473Z"
    }
   },
   "source": [
    "# Authorization"
   ]
  },
  {
   "cell_type": "code",
   "execution_count": 4,
   "metadata": {
    "ExecuteTime": {
     "end_time": "2019-04-07T07:47:44.667689Z",
     "start_time": "2019-04-07T07:47:44.646986Z"
    }
   },
   "outputs": [],
   "source": [
    "auth = tweepy.OAuthHandler(consumer_key, consumer_secret)\n",
    "auth.set_access_token(access_token, access_token_secret)\n",
    "api = tweepy.API(auth)"
   ]
  },
  {
   "cell_type": "markdown",
   "metadata": {},
   "source": [
    "# Part 1"
   ]
  },
  {
   "cell_type": "markdown",
   "metadata": {},
   "source": [
    "## Using (old) tweet extraction way for EDA\n",
    "\n",
    "Using the old way for tweet extraction of data exploration"
   ]
  },
  {
   "cell_type": "code",
   "execution_count": 7,
   "metadata": {
    "ExecuteTime": {
     "end_time": "2019-04-07T07:58:45.474901Z",
     "start_time": "2019-04-07T07:58:43.989555Z"
    }
   },
   "outputs": [],
   "source": [
    "# max count of tweets: 200\n",
    "tweets = api.user_timeline(screen_name='midasIIITD')"
   ]
  },
  {
   "cell_type": "code",
   "execution_count": 37,
   "metadata": {
    "ExecuteTime": {
     "end_time": "2019-04-07T08:36:58.789666Z",
     "start_time": "2019-04-07T08:36:58.783417Z"
    }
   },
   "outputs": [
    {
     "data": {
      "text/plain": [
       "20"
      ]
     },
     "execution_count": 37,
     "metadata": {},
     "output_type": "execute_result"
    }
   ],
   "source": [
    "len(tweets)"
   ]
  },
  {
   "cell_type": "code",
   "execution_count": 45,
   "metadata": {
    "ExecuteTime": {
     "end_time": "2019-04-07T08:50:02.961548Z",
     "start_time": "2019-04-07T08:50:02.956604Z"
    }
   },
   "outputs": [
    {
     "name": "stdout",
     "output_type": "stream",
     "text": [
      "Status(_api=<tweepy.api.API object at 0x7f7607385c18>, _json={'created_at': 'Sun Apr 07 06:55:19 +0000 2019', 'id': 1114783695129534464, 'id_str': '1114783695129534464', 'text': 'Other queries: \"none of the Tweeter Apis give the correct count of favorites tested for most of them, all give the… https://t.co/2jnCTMMqV8', 'truncated': True, 'entities': {'hashtags': [], 'symbols': [], 'user_mentions': [], 'urls': [{'url': 'https://t.co/2jnCTMMqV8', 'expanded_url': 'https://twitter.com/i/web/status/1114783695129534464', 'display_url': 'twitter.com/i/web/status/1…', 'indices': [116, 139]}]}, 'source': '<a href=\"http://twitter.com\" rel=\"nofollow\">Twitter Web Client</a>', 'in_reply_to_status_id': None, 'in_reply_to_status_id_str': None, 'in_reply_to_user_id': None, 'in_reply_to_user_id_str': None, 'in_reply_to_screen_name': None, 'user': {'id': 1021355762575073281, 'id_str': '1021355762575073281', 'name': 'MIDAS IIITD', 'screen_name': 'midasIIITD', 'location': 'New Delhi, India', 'description': 'MIDAS is a group of researchers at IIIT-Delhi who study, analyze, and build different multimedia systems for society leveraging multimodal information.', 'url': 'https://t.co/Uwg7oSM6mE', 'entities': {'url': {'urls': [{'url': 'https://t.co/Uwg7oSM6mE', 'expanded_url': 'http://midas.iiitd.edu.in/', 'display_url': 'midas.iiitd.edu.in', 'indices': [0, 23]}]}, 'description': {'urls': []}}, 'protected': False, 'followers_count': 258, 'friends_count': 42, 'listed_count': 0, 'created_at': 'Mon Jul 23 11:26:04 +0000 2018', 'favourites_count': 142, 'utc_offset': None, 'time_zone': None, 'geo_enabled': False, 'verified': False, 'statuses_count': 333, 'lang': 'en', 'contributors_enabled': False, 'is_translator': False, 'is_translation_enabled': False, 'profile_background_color': 'F5F8FA', 'profile_background_image_url': None, 'profile_background_image_url_https': None, 'profile_background_tile': False, 'profile_image_url': 'http://pbs.twimg.com/profile_images/1021356444921212928/WmSTJCUs_normal.jpg', 'profile_image_url_https': 'https://pbs.twimg.com/profile_images/1021356444921212928/WmSTJCUs_normal.jpg', 'profile_banner_url': 'https://pbs.twimg.com/profile_banners/1021355762575073281/1554320878', 'profile_link_color': '1DA1F2', 'profile_sidebar_border_color': 'C0DEED', 'profile_sidebar_fill_color': 'DDEEF6', 'profile_text_color': '333333', 'profile_use_background_image': True, 'has_extended_profile': False, 'default_profile': True, 'default_profile_image': False, 'following': True, 'follow_request_sent': False, 'notifications': False, 'translator_type': 'none'}, 'geo': None, 'coordinates': None, 'place': None, 'contributors': None, 'is_quote_status': False, 'retweet_count': 1, 'favorite_count': 0, 'favorited': False, 'retweeted': False, 'lang': 'en'}, created_at=datetime.datetime(2019, 4, 7, 6, 55, 19), id=1114783695129534464, id_str='1114783695129534464', text='Other queries: \"none of the Tweeter Apis give the correct count of favorites tested for most of them, all give the… https://t.co/2jnCTMMqV8', truncated=True, entities={'hashtags': [], 'symbols': [], 'user_mentions': [], 'urls': [{'url': 'https://t.co/2jnCTMMqV8', 'expanded_url': 'https://twitter.com/i/web/status/1114783695129534464', 'display_url': 'twitter.com/i/web/status/1…', 'indices': [116, 139]}]}, source='Twitter Web Client', source_url='http://twitter.com', in_reply_to_status_id=None, in_reply_to_status_id_str=None, in_reply_to_user_id=None, in_reply_to_user_id_str=None, in_reply_to_screen_name=None, author=User(_api=<tweepy.api.API object at 0x7f7607385c18>, _json={'id': 1021355762575073281, 'id_str': '1021355762575073281', 'name': 'MIDAS IIITD', 'screen_name': 'midasIIITD', 'location': 'New Delhi, India', 'description': 'MIDAS is a group of researchers at IIIT-Delhi who study, analyze, and build different multimedia systems for society leveraging multimodal information.', 'url': 'https://t.co/Uwg7oSM6mE', 'entities': {'url': {'urls': [{'url': 'https://t.co/Uwg7oSM6mE', 'expanded_url': 'http://midas.iiitd.edu.in/', 'display_url': 'midas.iiitd.edu.in', 'indices': [0, 23]}]}, 'description': {'urls': []}}, 'protected': False, 'followers_count': 258, 'friends_count': 42, 'listed_count': 0, 'created_at': 'Mon Jul 23 11:26:04 +0000 2018', 'favourites_count': 142, 'utc_offset': None, 'time_zone': None, 'geo_enabled': False, 'verified': False, 'statuses_count': 333, 'lang': 'en', 'contributors_enabled': False, 'is_translator': False, 'is_translation_enabled': False, 'profile_background_color': 'F5F8FA', 'profile_background_image_url': None, 'profile_background_image_url_https': None, 'profile_background_tile': False, 'profile_image_url': 'http://pbs.twimg.com/profile_images/1021356444921212928/WmSTJCUs_normal.jpg', 'profile_image_url_https': 'https://pbs.twimg.com/profile_images/1021356444921212928/WmSTJCUs_normal.jpg', 'profile_banner_url': 'https://pbs.twimg.com/profile_banners/1021355762575073281/1554320878', 'profile_link_color': '1DA1F2', 'profile_sidebar_border_color': 'C0DEED', 'profile_sidebar_fill_color': 'DDEEF6', 'profile_text_color': '333333', 'profile_use_background_image': True, 'has_extended_profile': False, 'default_profile': True, 'default_profile_image': False, 'following': True, 'follow_request_sent': False, 'notifications': False, 'translator_type': 'none'}, id=1021355762575073281, id_str='1021355762575073281', name='MIDAS IIITD', screen_name='midasIIITD', location='New Delhi, India', description='MIDAS is a group of researchers at IIIT-Delhi who study, analyze, and build different multimedia systems for society leveraging multimodal information.', url='https://t.co/Uwg7oSM6mE', entities={'url': {'urls': [{'url': 'https://t.co/Uwg7oSM6mE', 'expanded_url': 'http://midas.iiitd.edu.in/', 'display_url': 'midas.iiitd.edu.in', 'indices': [0, 23]}]}, 'description': {'urls': []}}, protected=False, followers_count=258, friends_count=42, listed_count=0, created_at=datetime.datetime(2018, 7, 23, 11, 26, 4), favourites_count=142, utc_offset=None, time_zone=None, geo_enabled=False, verified=False, statuses_count=333, lang='en', contributors_enabled=False, is_translator=False, is_translation_enabled=False, profile_background_color='F5F8FA', profile_background_image_url=None, profile_background_image_url_https=None, profile_background_tile=False, profile_image_url='http://pbs.twimg.com/profile_images/1021356444921212928/WmSTJCUs_normal.jpg', profile_image_url_https='https://pbs.twimg.com/profile_images/1021356444921212928/WmSTJCUs_normal.jpg', profile_banner_url='https://pbs.twimg.com/profile_banners/1021355762575073281/1554320878', profile_link_color='1DA1F2', profile_sidebar_border_color='C0DEED', profile_sidebar_fill_color='DDEEF6', profile_text_color='333333', profile_use_background_image=True, has_extended_profile=False, default_profile=True, default_profile_image=False, following=True, follow_request_sent=False, notifications=False, translator_type='none'), user=User(_api=<tweepy.api.API object at 0x7f7607385c18>, _json={'id': 1021355762575073281, 'id_str': '1021355762575073281', 'name': 'MIDAS IIITD', 'screen_name': 'midasIIITD', 'location': 'New Delhi, India', 'description': 'MIDAS is a group of researchers at IIIT-Delhi who study, analyze, and build different multimedia systems for society leveraging multimodal information.', 'url': 'https://t.co/Uwg7oSM6mE', 'entities': {'url': {'urls': [{'url': 'https://t.co/Uwg7oSM6mE', 'expanded_url': 'http://midas.iiitd.edu.in/', 'display_url': 'midas.iiitd.edu.in', 'indices': [0, 23]}]}, 'description': {'urls': []}}, 'protected': False, 'followers_count': 258, 'friends_count': 42, 'listed_count': 0, 'created_at': 'Mon Jul 23 11:26:04 +0000 2018', 'favourites_count': 142, 'utc_offset': None, 'time_zone': None, 'geo_enabled': False, 'verified': False, 'statuses_count': 333, 'lang': 'en', 'contributors_enabled': False, 'is_translator': False, 'is_translation_enabled': False, 'profile_background_color': 'F5F8FA', 'profile_background_image_url': None, 'profile_background_image_url_https': None, 'profile_background_tile': False, 'profile_image_url': 'http://pbs.twimg.com/profile_images/1021356444921212928/WmSTJCUs_normal.jpg', 'profile_image_url_https': 'https://pbs.twimg.com/profile_images/1021356444921212928/WmSTJCUs_normal.jpg', 'profile_banner_url': 'https://pbs.twimg.com/profile_banners/1021355762575073281/1554320878', 'profile_link_color': '1DA1F2', 'profile_sidebar_border_color': 'C0DEED', 'profile_sidebar_fill_color': 'DDEEF6', 'profile_text_color': '333333', 'profile_use_background_image': True, 'has_extended_profile': False, 'default_profile': True, 'default_profile_image': False, 'following': True, 'follow_request_sent': False, 'notifications': False, 'translator_type': 'none'}, id=1021355762575073281, id_str='1021355762575073281', name='MIDAS IIITD', screen_name='midasIIITD', location='New Delhi, India', description='MIDAS is a group of researchers at IIIT-Delhi who study, analyze, and build different multimedia systems for society leveraging multimodal information.', url='https://t.co/Uwg7oSM6mE', entities={'url': {'urls': [{'url': 'https://t.co/Uwg7oSM6mE', 'expanded_url': 'http://midas.iiitd.edu.in/', 'display_url': 'midas.iiitd.edu.in', 'indices': [0, 23]}]}, 'description': {'urls': []}}, protected=False, followers_count=258, friends_count=42, listed_count=0, created_at=datetime.datetime(2018, 7, 23, 11, 26, 4), favourites_count=142, utc_offset=None, time_zone=None, geo_enabled=False, verified=False, statuses_count=333, lang='en', contributors_enabled=False, is_translator=False, is_translation_enabled=False, profile_background_color='F5F8FA', profile_background_image_url=None, profile_background_image_url_https=None, profile_background_tile=False, profile_image_url='http://pbs.twimg.com/profile_images/1021356444921212928/WmSTJCUs_normal.jpg', profile_image_url_https='https://pbs.twimg.com/profile_images/1021356444921212928/WmSTJCUs_normal.jpg', profile_banner_url='https://pbs.twimg.com/profile_banners/1021355762575073281/1554320878', profile_link_color='1DA1F2', profile_sidebar_border_color='C0DEED', profile_sidebar_fill_color='DDEEF6', profile_text_color='333333', profile_use_background_image=True, has_extended_profile=False, default_profile=True, default_profile_image=False, following=True, follow_request_sent=False, notifications=False, translator_type='none'), geo=None, coordinates=None, place=None, contributors=None, is_quote_status=False, retweet_count=1, favorite_count=0, favorited=False, retweeted=False, lang='en')\n"
     ]
    }
   ],
   "source": [
    "pprint(tweets[0])"
   ]
  },
  {
   "cell_type": "markdown",
   "metadata": {
    "ExecuteTime": {
     "end_time": "2019-04-07T08:52:07.140051Z",
     "start_time": "2019-04-07T08:52:07.134675Z"
    }
   },
   "source": [
    "## [Tweet objects](https://developer.twitter.com/en/docs/tweets/data-dictionary/overview/tweet-object)"
   ]
  },
  {
   "cell_type": "markdown",
   "metadata": {},
   "source": [
    "### 1. text of tweet"
   ]
  },
  {
   "cell_type": "code",
   "execution_count": 16,
   "metadata": {
    "ExecuteTime": {
     "end_time": "2019-04-07T08:03:27.028598Z",
     "start_time": "2019-04-07T08:03:27.016539Z"
    },
    "scrolled": true
   },
   "outputs": [
    {
     "name": "stdout",
     "output_type": "stream",
     "text": [
      "('Other queries: \"none of the Tweeter Apis give the correct count of favorites '\n",
      " 'tested for most of them, all give the… https://t.co/2jnCTMMqV8')\n"
     ]
    }
   ],
   "source": [
    "pprint(tweets[0].text)"
   ]
  },
  {
   "cell_type": "markdown",
   "metadata": {},
   "source": [
    "### 2. data and time of tweet (UTC time)"
   ]
  },
  {
   "cell_type": "code",
   "execution_count": 44,
   "metadata": {
    "ExecuteTime": {
     "end_time": "2019-04-07T08:48:50.546260Z",
     "start_time": "2019-04-07T08:48:50.538283Z"
    }
   },
   "outputs": [
    {
     "data": {
      "text/plain": [
       "'2019-04-07 06:55:19'"
      ]
     },
     "execution_count": 44,
     "metadata": {},
     "output_type": "execute_result"
    }
   ],
   "source": [
    "str(tweets[0].created_at)"
   ]
  },
  {
   "cell_type": "markdown",
   "metadata": {},
   "source": [
    "### 3. The number of favorites/likes."
   ]
  },
  {
   "cell_type": "code",
   "execution_count": 47,
   "metadata": {
    "ExecuteTime": {
     "end_time": "2019-04-07T08:54:21.789843Z",
     "start_time": "2019-04-07T08:54:21.783707Z"
    }
   },
   "outputs": [
    {
     "data": {
      "text/plain": [
       "0"
      ]
     },
     "execution_count": 47,
     "metadata": {},
     "output_type": "execute_result"
    }
   ],
   "source": [
    "tweets[0].favorite_count"
   ]
  },
  {
   "cell_type": "markdown",
   "metadata": {},
   "source": [
    "### 4. The number of retweets"
   ]
  },
  {
   "cell_type": "code",
   "execution_count": 48,
   "metadata": {
    "ExecuteTime": {
     "end_time": "2019-04-07T08:54:46.445526Z",
     "start_time": "2019-04-07T08:54:46.432575Z"
    }
   },
   "outputs": [
    {
     "data": {
      "text/plain": [
       "1"
      ]
     },
     "execution_count": 48,
     "metadata": {},
     "output_type": "execute_result"
    }
   ],
   "source": [
    "tweets[0].retweet_count"
   ]
  },
  {
   "cell_type": "markdown",
   "metadata": {},
   "source": [
    "### 5. Number of [Images](https://developer.twitter.com/en/docs/tweets/data-dictionary/overview/entities-object) present in Tweet. If no image returns None"
   ]
  },
  {
   "cell_type": "code",
   "execution_count": 51,
   "metadata": {
    "ExecuteTime": {
     "end_time": "2019-04-07T09:01:08.932568Z",
     "start_time": "2019-04-07T09:01:08.926351Z"
    }
   },
   "outputs": [
    {
     "data": {
      "text/plain": [
       "{'hashtags': [],\n",
       " 'symbols': [],\n",
       " 'user_mentions': [],\n",
       " 'urls': [{'url': 'https://t.co/2jnCTMMqV8',\n",
       "   'expanded_url': 'https://twitter.com/i/web/status/1114783695129534464',\n",
       "   'display_url': 'twitter.com/i/web/status/1…',\n",
       "   'indices': [116, 139]}]}"
      ]
     },
     "execution_count": 51,
     "metadata": {},
     "output_type": "execute_result"
    }
   ],
   "source": [
    "# media appears only if available\n",
    "tweets[0].entities"
   ]
  },
  {
   "cell_type": "code",
   "execution_count": 55,
   "metadata": {
    "ExecuteTime": {
     "end_time": "2019-04-07T09:06:37.951469Z",
     "start_time": "2019-04-07T09:06:37.941307Z"
    }
   },
   "outputs": [
    {
     "name": "stdout",
     "output_type": "stream",
     "text": [
      "None\n"
     ]
    }
   ],
   "source": [
    "image_count = 0\n",
    "try: \n",
    "    if tweets[0].entities['media'][0]['type'] == 'photo':\n",
    "        image_count += 1\n",
    "except:\n",
    "    image_count = None\n",
    "pprint(image_count)"
   ]
  },
  {
   "cell_type": "markdown",
   "metadata": {},
   "source": [
    "## Using [`Cursor`](http://docs.tweepy.org/en/3.7.0/cursor_tutorial.html)\n",
    "\n",
    "Using `Cursor` object instead of the old way for ease.\n",
    "\n",
    "***Note:*** *Using `tweet_mode=’extended’` to Cursor object call to include tweets > 140 characters. Replace `.text` attribute with `.full_text`.*"
   ]
  },
  {
   "cell_type": "code",
   "execution_count": 27,
   "metadata": {
    "ExecuteTime": {
     "end_time": "2019-04-07T08:30:02.735011Z",
     "start_time": "2019-04-07T08:30:02.729611Z"
    }
   },
   "outputs": [],
   "source": [
    "# create a temporary empty list\n",
    "temp = []"
   ]
  },
  {
   "cell_type": "code",
   "execution_count": 29,
   "metadata": {
    "ExecuteTime": {
     "end_time": "2019-04-07T08:30:22.042925Z",
     "start_time": "2019-04-07T08:30:10.310891Z"
    }
   },
   "outputs": [],
   "source": [
    "# use Cursor object to get tweets and append it to the list created above\n",
    "for status in tweepy.Cursor(api.user_timeline, screen_name='@midasIIITD', tweet_mode=\"extended\").items():\n",
    "    temp.append(status)"
   ]
  },
  {
   "cell_type": "code",
   "execution_count": 30,
   "metadata": {
    "ExecuteTime": {
     "end_time": "2019-04-07T08:30:23.320430Z",
     "start_time": "2019-04-07T08:30:23.315603Z"
    }
   },
   "outputs": [
    {
     "data": {
      "text/plain": [
       "333"
      ]
     },
     "execution_count": 30,
     "metadata": {},
     "output_type": "execute_result"
    }
   ],
   "source": [
    "# no of tweets\n",
    "len(temp)"
   ]
  },
  {
   "cell_type": "code",
   "execution_count": 59,
   "metadata": {
    "ExecuteTime": {
     "end_time": "2019-04-07T09:37:42.717751Z",
     "start_time": "2019-04-07T09:37:42.689209Z"
    },
    "scrolled": false
   },
   "outputs": [
    {
     "data": {
      "text/plain": [
       "{'created_at': 'Sun Apr 07 06:55:19 +0000 2019',\n",
       " 'id': 1114783695129534464,\n",
       " 'id_str': '1114783695129534464',\n",
       " 'full_text': 'Other queries: \"none of the Tweeter Apis give the correct count of favorites tested for most of them, all give the wrong count. same is true for retweet. this mostly happens if the no. of likes, retweet is very large. So, what shld be done?\"\\nAns: Just use the count given by API.',\n",
       " 'truncated': False,\n",
       " 'display_text_range': [0, 279],\n",
       " 'entities': {'hashtags': [], 'symbols': [], 'user_mentions': [], 'urls': []},\n",
       " 'source': '<a href=\"http://twitter.com\" rel=\"nofollow\">Twitter Web Client</a>',\n",
       " 'in_reply_to_status_id': None,\n",
       " 'in_reply_to_status_id_str': None,\n",
       " 'in_reply_to_user_id': None,\n",
       " 'in_reply_to_user_id_str': None,\n",
       " 'in_reply_to_screen_name': None,\n",
       " 'user': {'id': 1021355762575073281,\n",
       "  'id_str': '1021355762575073281',\n",
       "  'name': 'MIDAS IIITD',\n",
       "  'screen_name': 'midasIIITD',\n",
       "  'location': 'New Delhi, India',\n",
       "  'description': 'MIDAS is a group of researchers at IIIT-Delhi who study, analyze, and build different multimedia systems for society leveraging multimodal information.',\n",
       "  'url': 'https://t.co/Uwg7oSM6mE',\n",
       "  'entities': {'url': {'urls': [{'url': 'https://t.co/Uwg7oSM6mE',\n",
       "      'expanded_url': 'http://midas.iiitd.edu.in/',\n",
       "      'display_url': 'midas.iiitd.edu.in',\n",
       "      'indices': [0, 23]}]},\n",
       "   'description': {'urls': []}},\n",
       "  'protected': False,\n",
       "  'followers_count': 262,\n",
       "  'friends_count': 42,\n",
       "  'listed_count': 0,\n",
       "  'created_at': 'Mon Jul 23 11:26:04 +0000 2018',\n",
       "  'favourites_count': 142,\n",
       "  'utc_offset': None,\n",
       "  'time_zone': None,\n",
       "  'geo_enabled': False,\n",
       "  'verified': False,\n",
       "  'statuses_count': 333,\n",
       "  'lang': 'en',\n",
       "  'contributors_enabled': False,\n",
       "  'is_translator': False,\n",
       "  'is_translation_enabled': False,\n",
       "  'profile_background_color': 'F5F8FA',\n",
       "  'profile_background_image_url': None,\n",
       "  'profile_background_image_url_https': None,\n",
       "  'profile_background_tile': False,\n",
       "  'profile_image_url': 'http://pbs.twimg.com/profile_images/1021356444921212928/WmSTJCUs_normal.jpg',\n",
       "  'profile_image_url_https': 'https://pbs.twimg.com/profile_images/1021356444921212928/WmSTJCUs_normal.jpg',\n",
       "  'profile_banner_url': 'https://pbs.twimg.com/profile_banners/1021355762575073281/1554320878',\n",
       "  'profile_link_color': '1DA1F2',\n",
       "  'profile_sidebar_border_color': 'C0DEED',\n",
       "  'profile_sidebar_fill_color': 'DDEEF6',\n",
       "  'profile_text_color': '333333',\n",
       "  'profile_use_background_image': True,\n",
       "  'has_extended_profile': False,\n",
       "  'default_profile': True,\n",
       "  'default_profile_image': False,\n",
       "  'following': True,\n",
       "  'follow_request_sent': False,\n",
       "  'notifications': False,\n",
       "  'translator_type': 'none'},\n",
       " 'geo': None,\n",
       " 'coordinates': None,\n",
       " 'place': None,\n",
       " 'contributors': None,\n",
       " 'is_quote_status': False,\n",
       " 'retweet_count': 1,\n",
       " 'favorite_count': 2,\n",
       " 'favorited': False,\n",
       " 'retweeted': False,\n",
       " 'lang': 'en'}"
      ]
     },
     "execution_count": 59,
     "metadata": {},
     "output_type": "execute_result"
    }
   ],
   "source": [
    "# data of first tweet\n",
    "temp[0]._json"
   ]
  },
  {
   "cell_type": "code",
   "execution_count": 61,
   "metadata": {
    "ExecuteTime": {
     "end_time": "2019-04-07T09:38:07.390156Z",
     "start_time": "2019-04-07T09:38:07.372502Z"
    }
   },
   "outputs": [
    {
     "data": {
      "text/plain": [
       "'Other queries: \"none of the Tweeter Apis give the correct count of favorites tested for most of them, all give the wrong count. same is true for retweet. this mostly happens if the no. of likes, retweet is very large. So, what shld be done?\"\\nAns: Just use the count given by API.'"
      ]
     },
     "execution_count": 61,
     "metadata": {},
     "output_type": "execute_result"
    }
   ],
   "source": [
    "# using `full_text` attribute rather than `text\n",
    "temp[0]._json['full_text']"
   ]
  },
  {
   "cell_type": "markdown",
   "metadata": {},
   "source": [
    "### Save into JSON file"
   ]
  },
  {
   "cell_type": "code",
   "execution_count": 63,
   "metadata": {
    "ExecuteTime": {
     "end_time": "2019-04-07T09:48:42.774765Z",
     "start_time": "2019-04-07T09:48:42.580452Z"
    }
   },
   "outputs": [],
   "source": [
    "with open('tweet.json', 'w', encoding='utf8') as file:\n",
    "    for i in temp:\n",
    "        json.dump(i._json, file, sort_keys=True, indent=4)"
   ]
  },
  {
   "cell_type": "markdown",
   "metadata": {},
   "source": [
    "### Save data into `jsonlines` file"
   ]
  },
  {
   "cell_type": "code",
   "execution_count": 64,
   "metadata": {
    "ExecuteTime": {
     "end_time": "2019-04-07T09:54:38.634383Z",
     "start_time": "2019-04-07T09:54:10.272831Z"
    }
   },
   "outputs": [
    {
     "name": "stdout",
     "output_type": "stream",
     "text": [
      "Collecting jsonlines\n",
      "  Downloading https://files.pythonhosted.org/packages/4f/9a/ab96291470e305504aa4b7a2e0ec132e930da89eb3ca7a82fbe03167c131/jsonlines-1.2.0-py2.py3-none-any.whl\n",
      "Requirement already satisfied: six in /home/harshit/anaconda3/lib/python3.6/site-packages (from jsonlines) (1.12.0)\n",
      "Installing collected packages: jsonlines\n",
      "Successfully installed jsonlines-1.2.0\n"
     ]
    }
   ],
   "source": [
    "# install jsonlines library for ease\n",
    "!pip install jsonlines"
   ]
  },
  {
   "cell_type": "code",
   "execution_count": 69,
   "metadata": {
    "ExecuteTime": {
     "end_time": "2019-04-07T10:00:20.784402Z",
     "start_time": "2019-04-07T10:00:20.589255Z"
    }
   },
   "outputs": [],
   "source": [
    "import jsonlines\n",
    "with jsonlines.open('tweets.jsonl', mode='w', sort_keys=True) as writer:\n",
    "    for i in temp:\n",
    "        writer.write(i._json)"
   ]
  },
  {
   "cell_type": "markdown",
   "metadata": {},
   "source": [
    "# Part 2\n",
    "\n",
    "Parse `jsonlines` file to get the required data"
   ]
  },
  {
   "cell_type": "code",
   "execution_count": 75,
   "metadata": {
    "ExecuteTime": {
     "end_time": "2019-04-07T10:08:06.135540Z",
     "start_time": "2019-04-07T10:08:06.084282Z"
    }
   },
   "outputs": [],
   "source": [
    "# read the jsonlines file and get data into a python list\n",
    "total_tweets = []\n",
    "with jsonlines.open('tweets.jsonl') as reader:\n",
    "    for obj in reader:\n",
    "        total_tweets.append(obj)"
   ]
  },
  {
   "cell_type": "code",
   "execution_count": 76,
   "metadata": {
    "ExecuteTime": {
     "end_time": "2019-04-07T10:08:12.420899Z",
     "start_time": "2019-04-07T10:08:12.391639Z"
    }
   },
   "outputs": [
    {
     "data": {
      "text/plain": [
       "{'contributors': None,\n",
       " 'coordinates': None,\n",
       " 'created_at': 'Sun Apr 07 06:55:19 +0000 2019',\n",
       " 'display_text_range': [0, 279],\n",
       " 'entities': {'hashtags': [], 'symbols': [], 'urls': [], 'user_mentions': []},\n",
       " 'favorite_count': 2,\n",
       " 'favorited': False,\n",
       " 'full_text': 'Other queries: \"none of the Tweeter Apis give the correct count of favorites tested for most of them, all give the wrong count. same is true for retweet. this mostly happens if the no. of likes, retweet is very large. So, what shld be done?\"\\nAns: Just use the count given by API.',\n",
       " 'geo': None,\n",
       " 'id': 1114783695129534464,\n",
       " 'id_str': '1114783695129534464',\n",
       " 'in_reply_to_screen_name': None,\n",
       " 'in_reply_to_status_id': None,\n",
       " 'in_reply_to_status_id_str': None,\n",
       " 'in_reply_to_user_id': None,\n",
       " 'in_reply_to_user_id_str': None,\n",
       " 'is_quote_status': False,\n",
       " 'lang': 'en',\n",
       " 'place': None,\n",
       " 'retweet_count': 1,\n",
       " 'retweeted': False,\n",
       " 'source': '<a href=\"http://twitter.com\" rel=\"nofollow\">Twitter Web Client</a>',\n",
       " 'truncated': False,\n",
       " 'user': {'contributors_enabled': False,\n",
       "  'created_at': 'Mon Jul 23 11:26:04 +0000 2018',\n",
       "  'default_profile': True,\n",
       "  'default_profile_image': False,\n",
       "  'description': 'MIDAS is a group of researchers at IIIT-Delhi who study, analyze, and build different multimedia systems for society leveraging multimodal information.',\n",
       "  'entities': {'description': {'urls': []},\n",
       "   'url': {'urls': [{'display_url': 'midas.iiitd.edu.in',\n",
       "      'expanded_url': 'http://midas.iiitd.edu.in/',\n",
       "      'indices': [0, 23],\n",
       "      'url': 'https://t.co/Uwg7oSM6mE'}]}},\n",
       "  'favourites_count': 142,\n",
       "  'follow_request_sent': False,\n",
       "  'followers_count': 262,\n",
       "  'following': True,\n",
       "  'friends_count': 42,\n",
       "  'geo_enabled': False,\n",
       "  'has_extended_profile': False,\n",
       "  'id': 1021355762575073281,\n",
       "  'id_str': '1021355762575073281',\n",
       "  'is_translation_enabled': False,\n",
       "  'is_translator': False,\n",
       "  'lang': 'en',\n",
       "  'listed_count': 0,\n",
       "  'location': 'New Delhi, India',\n",
       "  'name': 'MIDAS IIITD',\n",
       "  'notifications': False,\n",
       "  'profile_background_color': 'F5F8FA',\n",
       "  'profile_background_image_url': None,\n",
       "  'profile_background_image_url_https': None,\n",
       "  'profile_background_tile': False,\n",
       "  'profile_banner_url': 'https://pbs.twimg.com/profile_banners/1021355762575073281/1554320878',\n",
       "  'profile_image_url': 'http://pbs.twimg.com/profile_images/1021356444921212928/WmSTJCUs_normal.jpg',\n",
       "  'profile_image_url_https': 'https://pbs.twimg.com/profile_images/1021356444921212928/WmSTJCUs_normal.jpg',\n",
       "  'profile_link_color': '1DA1F2',\n",
       "  'profile_sidebar_border_color': 'C0DEED',\n",
       "  'profile_sidebar_fill_color': 'DDEEF6',\n",
       "  'profile_text_color': '333333',\n",
       "  'profile_use_background_image': True,\n",
       "  'protected': False,\n",
       "  'screen_name': 'midasIIITD',\n",
       "  'statuses_count': 333,\n",
       "  'time_zone': None,\n",
       "  'translator_type': 'none',\n",
       "  'url': 'https://t.co/Uwg7oSM6mE',\n",
       "  'utc_offset': None,\n",
       "  'verified': False}}"
      ]
     },
     "execution_count": 76,
     "metadata": {},
     "output_type": "execute_result"
    }
   ],
   "source": [
    "# compare data of first tweet to confirm everything working as intended\n",
    "total_tweets[0]"
   ]
  },
  {
   "cell_type": "code",
   "execution_count": 95,
   "metadata": {
    "ExecuteTime": {
     "end_time": "2019-04-07T10:30:36.445337Z",
     "start_time": "2019-04-07T10:30:36.434173Z"
    }
   },
   "outputs": [],
   "source": [
    "# create an empty dictionary of lists, which will hold tweets' information sequentially\n",
    "tweets_info = {'tweettext': [],\n",
    "               'datetime': [],\n",
    "               'favorite_count': [],\n",
    "               'retweet_count': [],\n",
    "               'image_count': []\n",
    "              }"
   ]
  },
  {
   "cell_type": "code",
   "execution_count": 96,
   "metadata": {
    "ExecuteTime": {
     "end_time": "2019-04-07T10:30:36.918867Z",
     "start_time": "2019-04-07T10:30:36.909458Z"
    }
   },
   "outputs": [],
   "source": [
    "# iterate through tweets and append the required tweet info into the lists of above created dictionary\n",
    "for tweet in total_tweets:\n",
    "    tweets_info['tweettext'].append(tweet['full_text'])\n",
    "    tweets_info['datetime'].append(str(tweet['created_at']))\n",
    "    tweets_info['favorite_count'].append(tweet['favorite_count'])\n",
    "    tweets_info['retweet_count'].append(tweet['retweet_count'])\n",
    "    image_count = 0\n",
    "    try: \n",
    "        if tweet['entities']['media'][0]['type'] == 'photo':\n",
    "            image_count += 1\n",
    "    except:\n",
    "        image_count = 0\n",
    "    tweets_info['image_count'].append(image_count)"
   ]
  },
  {
   "cell_type": "code",
   "execution_count": 97,
   "metadata": {
    "ExecuteTime": {
     "end_time": "2019-04-07T10:30:37.226661Z",
     "start_time": "2019-04-07T10:30:37.155657Z"
    },
    "scrolled": false
   },
   "outputs": [
    {
     "data": {
      "text/html": [
       "<div>\n",
       "<style scoped>\n",
       "    .dataframe tbody tr th:only-of-type {\n",
       "        vertical-align: middle;\n",
       "    }\n",
       "\n",
       "    .dataframe tbody tr th {\n",
       "        vertical-align: top;\n",
       "    }\n",
       "\n",
       "    .dataframe thead th {\n",
       "        text-align: right;\n",
       "    }\n",
       "</style>\n",
       "<table border=\"1\" class=\"dataframe\">\n",
       "  <thead>\n",
       "    <tr style=\"text-align: right;\">\n",
       "      <th></th>\n",
       "      <th>tweettext</th>\n",
       "      <th>datetime</th>\n",
       "      <th>favorite_count</th>\n",
       "      <th>retweet_count</th>\n",
       "      <th>image_count</th>\n",
       "    </tr>\n",
       "  </thead>\n",
       "  <tbody>\n",
       "    <tr>\n",
       "      <th>0</th>\n",
       "      <td>Other queries: \"none of the Tweeter Apis give ...</td>\n",
       "      <td>Sun Apr 07 06:55:19 +0000 2019</td>\n",
       "      <td>2</td>\n",
       "      <td>1</td>\n",
       "      <td>0</td>\n",
       "    </tr>\n",
       "    <tr>\n",
       "      <th>1</th>\n",
       "      <td>Other queries: \"do we have to make two differe...</td>\n",
       "      <td>Sun Apr 07 06:53:38 +0000 2019</td>\n",
       "      <td>2</td>\n",
       "      <td>0</td>\n",
       "      <td>0</td>\n",
       "    </tr>\n",
       "    <tr>\n",
       "      <th>2</th>\n",
       "      <td>Other queries: \"If using Twitter api, it does ...</td>\n",
       "      <td>Sun Apr 07 05:32:27 +0000 2019</td>\n",
       "      <td>4</td>\n",
       "      <td>1</td>\n",
       "      <td>0</td>\n",
       "    </tr>\n",
       "    <tr>\n",
       "      <th>3</th>\n",
       "      <td>Response to some queries asked by students on ...</td>\n",
       "      <td>Sun Apr 07 05:29:40 +0000 2019</td>\n",
       "      <td>6</td>\n",
       "      <td>1</td>\n",
       "      <td>0</td>\n",
       "    </tr>\n",
       "    <tr>\n",
       "      <th>4</th>\n",
       "      <td>RT @kdnuggets: Top 8 #Free Must-Read #Books on...</td>\n",
       "      <td>Sat Apr 06 17:11:29 +0000 2019</td>\n",
       "      <td>0</td>\n",
       "      <td>2</td>\n",
       "      <td>0</td>\n",
       "    </tr>\n",
       "    <tr>\n",
       "      <th>5</th>\n",
       "      <td>@nupur_baghel @PennDATS Congratulation @nupur_...</td>\n",
       "      <td>Sat Apr 06 16:43:27 +0000 2019</td>\n",
       "      <td>14</td>\n",
       "      <td>3</td>\n",
       "      <td>1</td>\n",
       "    </tr>\n",
       "    <tr>\n",
       "      <th>6</th>\n",
       "      <td>We have emailed the task details to all candid...</td>\n",
       "      <td>Fri Apr 05 16:08:37 +0000 2019</td>\n",
       "      <td>10</td>\n",
       "      <td>1</td>\n",
       "      <td>0</td>\n",
       "    </tr>\n",
       "    <tr>\n",
       "      <th>7</th>\n",
       "      <td>RT @rfpvjr: Our NAACL paper on polarization in...</td>\n",
       "      <td>Fri Apr 05 04:05:11 +0000 2019</td>\n",
       "      <td>0</td>\n",
       "      <td>16</td>\n",
       "      <td>0</td>\n",
       "    </tr>\n",
       "    <tr>\n",
       "      <th>8</th>\n",
       "      <td>RT @kdnuggets: Effective Transfer Learning For...</td>\n",
       "      <td>Fri Apr 05 04:04:43 +0000 2019</td>\n",
       "      <td>0</td>\n",
       "      <td>10</td>\n",
       "      <td>1</td>\n",
       "    </tr>\n",
       "    <tr>\n",
       "      <th>9</th>\n",
       "      <td>RT @stanfordnlp: What’s new in @Stanford CS224...</td>\n",
       "      <td>Wed Apr 03 18:31:53 +0000 2019</td>\n",
       "      <td>0</td>\n",
       "      <td>58</td>\n",
       "      <td>0</td>\n",
       "    </tr>\n",
       "    <tr>\n",
       "      <th>10</th>\n",
       "      <td>RT @DeepMindAI: Today we're releasing a large-...</td>\n",
       "      <td>Wed Apr 03 17:04:32 +0000 2019</td>\n",
       "      <td>0</td>\n",
       "      <td>848</td>\n",
       "      <td>0</td>\n",
       "    </tr>\n",
       "    <tr>\n",
       "      <th>11</th>\n",
       "      <td>RT @ylecun: Congratulations Jitendra Malik !\\n...</td>\n",
       "      <td>Wed Apr 03 09:03:40 +0000 2019</td>\n",
       "      <td>0</td>\n",
       "      <td>16</td>\n",
       "      <td>0</td>\n",
       "    </tr>\n",
       "    <tr>\n",
       "      <th>12</th>\n",
       "      <td>RT @IIITDelhi: Another chance to take admissio...</td>\n",
       "      <td>Wed Apr 03 07:46:02 +0000 2019</td>\n",
       "      <td>0</td>\n",
       "      <td>4</td>\n",
       "      <td>0</td>\n",
       "    </tr>\n",
       "    <tr>\n",
       "      <th>13</th>\n",
       "      <td>Dear @midasIIITD internship candidates who hav...</td>\n",
       "      <td>Tue Apr 02 04:20:13 +0000 2019</td>\n",
       "      <td>8</td>\n",
       "      <td>1</td>\n",
       "      <td>0</td>\n",
       "    </tr>\n",
       "    <tr>\n",
       "      <th>14</th>\n",
       "      <td>Looking forward to your paper submission to @I...</td>\n",
       "      <td>Tue Apr 02 02:44:54 +0000 2019</td>\n",
       "      <td>5</td>\n",
       "      <td>1</td>\n",
       "      <td>0</td>\n",
       "    </tr>\n",
       "    <tr>\n",
       "      <th>15</th>\n",
       "      <td>RT @ngrams: Reproducibility in multimedia rese...</td>\n",
       "      <td>Tue Apr 02 02:35:44 +0000 2019</td>\n",
       "      <td>0</td>\n",
       "      <td>7</td>\n",
       "      <td>0</td>\n",
       "    </tr>\n",
       "    <tr>\n",
       "      <th>16</th>\n",
       "      <td>Online application for https://t.co/DJFDrQsHZP...</td>\n",
       "      <td>Mon Apr 01 06:53:08 +0000 2019</td>\n",
       "      <td>7</td>\n",
       "      <td>2</td>\n",
       "      <td>0</td>\n",
       "    </tr>\n",
       "    <tr>\n",
       "      <th>17</th>\n",
       "      <td>RT @ACMMM19: A final reminder of the Reproduci...</td>\n",
       "      <td>Sun Mar 31 10:21:24 +0000 2019</td>\n",
       "      <td>0</td>\n",
       "      <td>10</td>\n",
       "      <td>0</td>\n",
       "    </tr>\n",
       "    <tr>\n",
       "      <th>18</th>\n",
       "      <td>RT @isarth23: Thanks for the support and help ...</td>\n",
       "      <td>Fri Mar 29 19:43:24 +0000 2019</td>\n",
       "      <td>0</td>\n",
       "      <td>2</td>\n",
       "      <td>0</td>\n",
       "    </tr>\n",
       "    <tr>\n",
       "      <th>19</th>\n",
       "      <td>Since SemEval-2019 will be held June 6-7, 2019...</td>\n",
       "      <td>Fri Mar 29 17:16:40 +0000 2019</td>\n",
       "      <td>9</td>\n",
       "      <td>1</td>\n",
       "      <td>0</td>\n",
       "    </tr>\n",
       "    <tr>\n",
       "      <th>20</th>\n",
       "      <td>+@aggarwal_kartik.\\nCongrats! Wish you many mo...</td>\n",
       "      <td>Fri Mar 29 17:04:30 +0000 2019</td>\n",
       "      <td>2</td>\n",
       "      <td>0</td>\n",
       "      <td>0</td>\n",
       "    </tr>\n",
       "    <tr>\n",
       "      <th>21</th>\n",
       "      <td>RT @aggarwal_kartik: Our work (@midasIIITD ) a...</td>\n",
       "      <td>Fri Mar 29 17:03:29 +0000 2019</td>\n",
       "      <td>0</td>\n",
       "      <td>1</td>\n",
       "      <td>0</td>\n",
       "    </tr>\n",
       "    <tr>\n",
       "      <th>22</th>\n",
       "      <td>Congratulations! @midasIIITD team, @isarth23 @...</td>\n",
       "      <td>Fri Mar 29 17:02:24 +0000 2019</td>\n",
       "      <td>9</td>\n",
       "      <td>1</td>\n",
       "      <td>0</td>\n",
       "    </tr>\n",
       "    <tr>\n",
       "      <th>23</th>\n",
       "      <td>@EEMLcommunity @radamihalcea too many deadline...</td>\n",
       "      <td>Fri Mar 29 05:35:22 +0000 2019</td>\n",
       "      <td>0</td>\n",
       "      <td>0</td>\n",
       "      <td>0</td>\n",
       "    </tr>\n",
       "    <tr>\n",
       "      <th>24</th>\n",
       "      <td>RT @stanfordnlp: CS224N Natural Language Proce...</td>\n",
       "      <td>Thu Mar 28 16:55:01 +0000 2019</td>\n",
       "      <td>0</td>\n",
       "      <td>714</td>\n",
       "      <td>0</td>\n",
       "    </tr>\n",
       "    <tr>\n",
       "      <th>25</th>\n",
       "      <td>RT @ylecun: Learn PyTorch by running on Google...</td>\n",
       "      <td>Thu Mar 28 16:54:37 +0000 2019</td>\n",
       "      <td>0</td>\n",
       "      <td>157</td>\n",
       "      <td>0</td>\n",
       "    </tr>\n",
       "    <tr>\n",
       "      <th>26</th>\n",
       "      <td>Dr. Vineeth N Balasubramanian will present a T...</td>\n",
       "      <td>Wed Mar 27 16:09:09 +0000 2019</td>\n",
       "      <td>4</td>\n",
       "      <td>1</td>\n",
       "      <td>1</td>\n",
       "    </tr>\n",
       "    <tr>\n",
       "      <th>27</th>\n",
       "      <td>RT @ylecun: I am extremely honored to be the r...</td>\n",
       "      <td>Wed Mar 27 11:53:40 +0000 2019</td>\n",
       "      <td>0</td>\n",
       "      <td>1545</td>\n",
       "      <td>0</td>\n",
       "    </tr>\n",
       "    <tr>\n",
       "      <th>28</th>\n",
       "      <td>Thanks to all shortlisted candidates for submi...</td>\n",
       "      <td>Tue Mar 26 18:12:27 +0000 2019</td>\n",
       "      <td>5</td>\n",
       "      <td>1</td>\n",
       "      <td>0</td>\n",
       "    </tr>\n",
       "    <tr>\n",
       "      <th>29</th>\n",
       "      <td>@IEEEBigMM19 @ACMMM19 and 6 days left for work...</td>\n",
       "      <td>Tue Mar 26 05:54:49 +0000 2019</td>\n",
       "      <td>2</td>\n",
       "      <td>0</td>\n",
       "      <td>0</td>\n",
       "    </tr>\n",
       "    <tr>\n",
       "      <th>...</th>\n",
       "      <td>...</td>\n",
       "      <td>...</td>\n",
       "      <td>...</td>\n",
       "      <td>...</td>\n",
       "      <td>...</td>\n",
       "    </tr>\n",
       "    <tr>\n",
       "      <th>303</th>\n",
       "      <td>RT @TensorFlow: TensorFlow 1.10.0 has been rel...</td>\n",
       "      <td>Thu Aug 09 05:59:57 +0000 2018</td>\n",
       "      <td>0</td>\n",
       "      <td>265</td>\n",
       "      <td>0</td>\n",
       "    </tr>\n",
       "    <tr>\n",
       "      <th>304</th>\n",
       "      <td>@midasIIITD is looking for motivated IIITD MTe...</td>\n",
       "      <td>Wed Aug 08 11:30:56 +0000 2018</td>\n",
       "      <td>2</td>\n",
       "      <td>1</td>\n",
       "      <td>0</td>\n",
       "    </tr>\n",
       "    <tr>\n",
       "      <th>305</th>\n",
       "      <td>@IIITDelhi @ponguru @RatnRajiv The results of ...</td>\n",
       "      <td>Wed Aug 08 05:53:48 +0000 2018</td>\n",
       "      <td>3</td>\n",
       "      <td>1</td>\n",
       "      <td>1</td>\n",
       "    </tr>\n",
       "    <tr>\n",
       "      <th>306</th>\n",
       "      <td>RT @IIITDelhi: @midasIIITD has secured rank 1 ...</td>\n",
       "      <td>Wed Aug 08 05:45:58 +0000 2018</td>\n",
       "      <td>0</td>\n",
       "      <td>1</td>\n",
       "      <td>0</td>\n",
       "    </tr>\n",
       "    <tr>\n",
       "      <th>307</th>\n",
       "      <td>RT @kdnuggets: Comparison of Top 6 Python NLP ...</td>\n",
       "      <td>Tue Aug 07 07:16:33 +0000 2018</td>\n",
       "      <td>0</td>\n",
       "      <td>40</td>\n",
       "      <td>1</td>\n",
       "    </tr>\n",
       "    <tr>\n",
       "      <th>308</th>\n",
       "      <td>Check more details of the 20th IEEE Internatio...</td>\n",
       "      <td>Tue Aug 07 02:05:12 +0000 2018</td>\n",
       "      <td>1</td>\n",
       "      <td>1</td>\n",
       "      <td>0</td>\n",
       "    </tr>\n",
       "    <tr>\n",
       "      <th>309</th>\n",
       "      <td>MR2AMC@ISM 2018 will be organized by @RatnRaji...</td>\n",
       "      <td>Tue Aug 07 01:58:49 +0000 2018</td>\n",
       "      <td>1</td>\n",
       "      <td>1</td>\n",
       "      <td>0</td>\n",
       "    </tr>\n",
       "    <tr>\n",
       "      <th>310</th>\n",
       "      <td>Our workshop proposal named, \"MR2AMC: Multimod...</td>\n",
       "      <td>Tue Aug 07 01:50:33 +0000 2018</td>\n",
       "      <td>1</td>\n",
       "      <td>1</td>\n",
       "      <td>0</td>\n",
       "    </tr>\n",
       "    <tr>\n",
       "      <th>311</th>\n",
       "      <td>@NUSComputing Congratulations Abdelhak and Pro...</td>\n",
       "      <td>Mon Aug 06 17:48:23 +0000 2018</td>\n",
       "      <td>0</td>\n",
       "      <td>0</td>\n",
       "      <td>0</td>\n",
       "    </tr>\n",
       "    <tr>\n",
       "      <th>312</th>\n",
       "      <td>RT @goodfellow_ian: One of the most anticipate...</td>\n",
       "      <td>Mon Aug 06 17:46:59 +0000 2018</td>\n",
       "      <td>0</td>\n",
       "      <td>103</td>\n",
       "      <td>1</td>\n",
       "    </tr>\n",
       "    <tr>\n",
       "      <th>313</th>\n",
       "      <td>@the_dhumketu Great to have you in @midasIIITD</td>\n",
       "      <td>Mon Aug 06 06:06:47 +0000 2018</td>\n",
       "      <td>0</td>\n",
       "      <td>0</td>\n",
       "      <td>0</td>\n",
       "    </tr>\n",
       "    <tr>\n",
       "      <th>314</th>\n",
       "      <td>Congratulation @soujanyaporia for being appoin...</td>\n",
       "      <td>Fri Aug 03 05:56:33 +0000 2018</td>\n",
       "      <td>6</td>\n",
       "      <td>1</td>\n",
       "      <td>0</td>\n",
       "    </tr>\n",
       "    <tr>\n",
       "      <th>315</th>\n",
       "      <td>@IIITDelhi @the_dhumketu Thanks team @midasIII...</td>\n",
       "      <td>Wed Aug 01 11:47:15 +0000 2018</td>\n",
       "      <td>5</td>\n",
       "      <td>1</td>\n",
       "      <td>1</td>\n",
       "    </tr>\n",
       "    <tr>\n",
       "      <th>316</th>\n",
       "      <td>RT @IIITDelhi: Congratulations @midasIIITD int...</td>\n",
       "      <td>Wed Aug 01 11:20:07 +0000 2018</td>\n",
       "      <td>0</td>\n",
       "      <td>4</td>\n",
       "      <td>0</td>\n",
       "    </tr>\n",
       "    <tr>\n",
       "      <th>317</th>\n",
       "      <td>RT @learning_pt: Profile of the 5 Indian under...</td>\n",
       "      <td>Wed Aug 01 05:06:47 +0000 2018</td>\n",
       "      <td>0</td>\n",
       "      <td>4</td>\n",
       "      <td>0</td>\n",
       "    </tr>\n",
       "    <tr>\n",
       "      <th>318</th>\n",
       "      <td>Have a look at the list of accepted papers in ...</td>\n",
       "      <td>Tue Jul 31 12:11:52 +0000 2018</td>\n",
       "      <td>1</td>\n",
       "      <td>0</td>\n",
       "      <td>0</td>\n",
       "    </tr>\n",
       "    <tr>\n",
       "      <th>319</th>\n",
       "      <td>RT @goodfellow_ian: https://t.co/hYiWI7ntyk Te...</td>\n",
       "      <td>Tue Jul 31 02:06:26 +0000 2018</td>\n",
       "      <td>0</td>\n",
       "      <td>264</td>\n",
       "      <td>0</td>\n",
       "    </tr>\n",
       "    <tr>\n",
       "      <th>320</th>\n",
       "      <td>RT @IIITDelhi: Congratulations Dr. @RatnRajiv ...</td>\n",
       "      <td>Mon Jul 30 07:30:51 +0000 2018</td>\n",
       "      <td>0</td>\n",
       "      <td>2</td>\n",
       "      <td>0</td>\n",
       "    </tr>\n",
       "    <tr>\n",
       "      <th>321</th>\n",
       "      <td>RT @ylecun: Jitendra Malik, who directs FAIR-M...</td>\n",
       "      <td>Sat Jul 28 11:07:11 +0000 2018</td>\n",
       "      <td>0</td>\n",
       "      <td>57</td>\n",
       "      <td>0</td>\n",
       "    </tr>\n",
       "    <tr>\n",
       "      <th>322</th>\n",
       "      <td>RT @kdnuggets: .@Bloomberg launches free cours...</td>\n",
       "      <td>Sat Jul 28 06:14:09 +0000 2018</td>\n",
       "      <td>0</td>\n",
       "      <td>105</td>\n",
       "      <td>0</td>\n",
       "    </tr>\n",
       "    <tr>\n",
       "      <th>323</th>\n",
       "      <td>RT @TechAtBloomberg: Missed #PyLondinium18? Wa...</td>\n",
       "      <td>Sat Jul 28 06:13:48 +0000 2018</td>\n",
       "      <td>0</td>\n",
       "      <td>7</td>\n",
       "      <td>0</td>\n",
       "    </tr>\n",
       "    <tr>\n",
       "      <th>324</th>\n",
       "      <td>RT @IIITDelhi: We are delighted to announce th...</td>\n",
       "      <td>Sat Jul 28 04:08:21 +0000 2018</td>\n",
       "      <td>0</td>\n",
       "      <td>6</td>\n",
       "      <td>0</td>\n",
       "    </tr>\n",
       "    <tr>\n",
       "      <th>325</th>\n",
       "      <td>Get ready for the annual technical fest of @II...</td>\n",
       "      <td>Fri Jul 27 06:46:44 +0000 2018</td>\n",
       "      <td>3</td>\n",
       "      <td>2</td>\n",
       "      <td>0</td>\n",
       "    </tr>\n",
       "    <tr>\n",
       "      <th>326</th>\n",
       "      <td>Congratulations Dr. @RatnRajiv and team @midas...</td>\n",
       "      <td>Fri Jul 27 04:07:31 +0000 2018</td>\n",
       "      <td>8</td>\n",
       "      <td>2</td>\n",
       "      <td>0</td>\n",
       "    </tr>\n",
       "    <tr>\n",
       "      <th>327</th>\n",
       "      <td>Congratulations MIDAS @midasIIITD intern Prakh...</td>\n",
       "      <td>Wed Jul 25 05:14:35 +0000 2018</td>\n",
       "      <td>5</td>\n",
       "      <td>1</td>\n",
       "      <td>0</td>\n",
       "    </tr>\n",
       "    <tr>\n",
       "      <th>328</th>\n",
       "      <td>MIDAS@IIITD foundation. https://t.co/LKuzyBHzjm</td>\n",
       "      <td>Tue Jul 24 10:33:23 +0000 2018</td>\n",
       "      <td>2</td>\n",
       "      <td>1</td>\n",
       "      <td>0</td>\n",
       "    </tr>\n",
       "    <tr>\n",
       "      <th>329</th>\n",
       "      <td>It feels great to be the part of @IIITDelhi. h...</td>\n",
       "      <td>Tue Jul 24 10:12:34 +0000 2018</td>\n",
       "      <td>2</td>\n",
       "      <td>1</td>\n",
       "      <td>0</td>\n",
       "    </tr>\n",
       "    <tr>\n",
       "      <th>330</th>\n",
       "      <td>Thank you, @toonzratn for designing the logo o...</td>\n",
       "      <td>Tue Jul 24 09:46:26 +0000 2018</td>\n",
       "      <td>4</td>\n",
       "      <td>1</td>\n",
       "      <td>1</td>\n",
       "    </tr>\n",
       "    <tr>\n",
       "      <th>331</th>\n",
       "      <td>We are on Facebook too. Like our page to get o...</td>\n",
       "      <td>Mon Jul 23 16:25:05 +0000 2018</td>\n",
       "      <td>3</td>\n",
       "      <td>1</td>\n",
       "      <td>0</td>\n",
       "    </tr>\n",
       "    <tr>\n",
       "      <th>332</th>\n",
       "      <td>MIDAS is a group of researchers at IIIT-Delhi ...</td>\n",
       "      <td>Mon Jul 23 12:53:15 +0000 2018</td>\n",
       "      <td>7</td>\n",
       "      <td>4</td>\n",
       "      <td>0</td>\n",
       "    </tr>\n",
       "  </tbody>\n",
       "</table>\n",
       "<p>333 rows × 5 columns</p>\n",
       "</div>"
      ],
      "text/plain": [
       "                                             tweettext  \\\n",
       "0    Other queries: \"none of the Tweeter Apis give ...   \n",
       "1    Other queries: \"do we have to make two differe...   \n",
       "2    Other queries: \"If using Twitter api, it does ...   \n",
       "3    Response to some queries asked by students on ...   \n",
       "4    RT @kdnuggets: Top 8 #Free Must-Read #Books on...   \n",
       "5    @nupur_baghel @PennDATS Congratulation @nupur_...   \n",
       "6    We have emailed the task details to all candid...   \n",
       "7    RT @rfpvjr: Our NAACL paper on polarization in...   \n",
       "8    RT @kdnuggets: Effective Transfer Learning For...   \n",
       "9    RT @stanfordnlp: What’s new in @Stanford CS224...   \n",
       "10   RT @DeepMindAI: Today we're releasing a large-...   \n",
       "11   RT @ylecun: Congratulations Jitendra Malik !\\n...   \n",
       "12   RT @IIITDelhi: Another chance to take admissio...   \n",
       "13   Dear @midasIIITD internship candidates who hav...   \n",
       "14   Looking forward to your paper submission to @I...   \n",
       "15   RT @ngrams: Reproducibility in multimedia rese...   \n",
       "16   Online application for https://t.co/DJFDrQsHZP...   \n",
       "17   RT @ACMMM19: A final reminder of the Reproduci...   \n",
       "18   RT @isarth23: Thanks for the support and help ...   \n",
       "19   Since SemEval-2019 will be held June 6-7, 2019...   \n",
       "20   +@aggarwal_kartik.\\nCongrats! Wish you many mo...   \n",
       "21   RT @aggarwal_kartik: Our work (@midasIIITD ) a...   \n",
       "22   Congratulations! @midasIIITD team, @isarth23 @...   \n",
       "23   @EEMLcommunity @radamihalcea too many deadline...   \n",
       "24   RT @stanfordnlp: CS224N Natural Language Proce...   \n",
       "25   RT @ylecun: Learn PyTorch by running on Google...   \n",
       "26   Dr. Vineeth N Balasubramanian will present a T...   \n",
       "27   RT @ylecun: I am extremely honored to be the r...   \n",
       "28   Thanks to all shortlisted candidates for submi...   \n",
       "29   @IEEEBigMM19 @ACMMM19 and 6 days left for work...   \n",
       "..                                                 ...   \n",
       "303  RT @TensorFlow: TensorFlow 1.10.0 has been rel...   \n",
       "304  @midasIIITD is looking for motivated IIITD MTe...   \n",
       "305  @IIITDelhi @ponguru @RatnRajiv The results of ...   \n",
       "306  RT @IIITDelhi: @midasIIITD has secured rank 1 ...   \n",
       "307  RT @kdnuggets: Comparison of Top 6 Python NLP ...   \n",
       "308  Check more details of the 20th IEEE Internatio...   \n",
       "309  MR2AMC@ISM 2018 will be organized by @RatnRaji...   \n",
       "310  Our workshop proposal named, \"MR2AMC: Multimod...   \n",
       "311  @NUSComputing Congratulations Abdelhak and Pro...   \n",
       "312  RT @goodfellow_ian: One of the most anticipate...   \n",
       "313     @the_dhumketu Great to have you in @midasIIITD   \n",
       "314  Congratulation @soujanyaporia for being appoin...   \n",
       "315  @IIITDelhi @the_dhumketu Thanks team @midasIII...   \n",
       "316  RT @IIITDelhi: Congratulations @midasIIITD int...   \n",
       "317  RT @learning_pt: Profile of the 5 Indian under...   \n",
       "318  Have a look at the list of accepted papers in ...   \n",
       "319  RT @goodfellow_ian: https://t.co/hYiWI7ntyk Te...   \n",
       "320  RT @IIITDelhi: Congratulations Dr. @RatnRajiv ...   \n",
       "321  RT @ylecun: Jitendra Malik, who directs FAIR-M...   \n",
       "322  RT @kdnuggets: .@Bloomberg launches free cours...   \n",
       "323  RT @TechAtBloomberg: Missed #PyLondinium18? Wa...   \n",
       "324  RT @IIITDelhi: We are delighted to announce th...   \n",
       "325  Get ready for the annual technical fest of @II...   \n",
       "326  Congratulations Dr. @RatnRajiv and team @midas...   \n",
       "327  Congratulations MIDAS @midasIIITD intern Prakh...   \n",
       "328    MIDAS@IIITD foundation. https://t.co/LKuzyBHzjm   \n",
       "329  It feels great to be the part of @IIITDelhi. h...   \n",
       "330  Thank you, @toonzratn for designing the logo o...   \n",
       "331  We are on Facebook too. Like our page to get o...   \n",
       "332  MIDAS is a group of researchers at IIIT-Delhi ...   \n",
       "\n",
       "                           datetime  favorite_count  retweet_count  \\\n",
       "0    Sun Apr 07 06:55:19 +0000 2019               2              1   \n",
       "1    Sun Apr 07 06:53:38 +0000 2019               2              0   \n",
       "2    Sun Apr 07 05:32:27 +0000 2019               4              1   \n",
       "3    Sun Apr 07 05:29:40 +0000 2019               6              1   \n",
       "4    Sat Apr 06 17:11:29 +0000 2019               0              2   \n",
       "5    Sat Apr 06 16:43:27 +0000 2019              14              3   \n",
       "6    Fri Apr 05 16:08:37 +0000 2019              10              1   \n",
       "7    Fri Apr 05 04:05:11 +0000 2019               0             16   \n",
       "8    Fri Apr 05 04:04:43 +0000 2019               0             10   \n",
       "9    Wed Apr 03 18:31:53 +0000 2019               0             58   \n",
       "10   Wed Apr 03 17:04:32 +0000 2019               0            848   \n",
       "11   Wed Apr 03 09:03:40 +0000 2019               0             16   \n",
       "12   Wed Apr 03 07:46:02 +0000 2019               0              4   \n",
       "13   Tue Apr 02 04:20:13 +0000 2019               8              1   \n",
       "14   Tue Apr 02 02:44:54 +0000 2019               5              1   \n",
       "15   Tue Apr 02 02:35:44 +0000 2019               0              7   \n",
       "16   Mon Apr 01 06:53:08 +0000 2019               7              2   \n",
       "17   Sun Mar 31 10:21:24 +0000 2019               0             10   \n",
       "18   Fri Mar 29 19:43:24 +0000 2019               0              2   \n",
       "19   Fri Mar 29 17:16:40 +0000 2019               9              1   \n",
       "20   Fri Mar 29 17:04:30 +0000 2019               2              0   \n",
       "21   Fri Mar 29 17:03:29 +0000 2019               0              1   \n",
       "22   Fri Mar 29 17:02:24 +0000 2019               9              1   \n",
       "23   Fri Mar 29 05:35:22 +0000 2019               0              0   \n",
       "24   Thu Mar 28 16:55:01 +0000 2019               0            714   \n",
       "25   Thu Mar 28 16:54:37 +0000 2019               0            157   \n",
       "26   Wed Mar 27 16:09:09 +0000 2019               4              1   \n",
       "27   Wed Mar 27 11:53:40 +0000 2019               0           1545   \n",
       "28   Tue Mar 26 18:12:27 +0000 2019               5              1   \n",
       "29   Tue Mar 26 05:54:49 +0000 2019               2              0   \n",
       "..                              ...             ...            ...   \n",
       "303  Thu Aug 09 05:59:57 +0000 2018               0            265   \n",
       "304  Wed Aug 08 11:30:56 +0000 2018               2              1   \n",
       "305  Wed Aug 08 05:53:48 +0000 2018               3              1   \n",
       "306  Wed Aug 08 05:45:58 +0000 2018               0              1   \n",
       "307  Tue Aug 07 07:16:33 +0000 2018               0             40   \n",
       "308  Tue Aug 07 02:05:12 +0000 2018               1              1   \n",
       "309  Tue Aug 07 01:58:49 +0000 2018               1              1   \n",
       "310  Tue Aug 07 01:50:33 +0000 2018               1              1   \n",
       "311  Mon Aug 06 17:48:23 +0000 2018               0              0   \n",
       "312  Mon Aug 06 17:46:59 +0000 2018               0            103   \n",
       "313  Mon Aug 06 06:06:47 +0000 2018               0              0   \n",
       "314  Fri Aug 03 05:56:33 +0000 2018               6              1   \n",
       "315  Wed Aug 01 11:47:15 +0000 2018               5              1   \n",
       "316  Wed Aug 01 11:20:07 +0000 2018               0              4   \n",
       "317  Wed Aug 01 05:06:47 +0000 2018               0              4   \n",
       "318  Tue Jul 31 12:11:52 +0000 2018               1              0   \n",
       "319  Tue Jul 31 02:06:26 +0000 2018               0            264   \n",
       "320  Mon Jul 30 07:30:51 +0000 2018               0              2   \n",
       "321  Sat Jul 28 11:07:11 +0000 2018               0             57   \n",
       "322  Sat Jul 28 06:14:09 +0000 2018               0            105   \n",
       "323  Sat Jul 28 06:13:48 +0000 2018               0              7   \n",
       "324  Sat Jul 28 04:08:21 +0000 2018               0              6   \n",
       "325  Fri Jul 27 06:46:44 +0000 2018               3              2   \n",
       "326  Fri Jul 27 04:07:31 +0000 2018               8              2   \n",
       "327  Wed Jul 25 05:14:35 +0000 2018               5              1   \n",
       "328  Tue Jul 24 10:33:23 +0000 2018               2              1   \n",
       "329  Tue Jul 24 10:12:34 +0000 2018               2              1   \n",
       "330  Tue Jul 24 09:46:26 +0000 2018               4              1   \n",
       "331  Mon Jul 23 16:25:05 +0000 2018               3              1   \n",
       "332  Mon Jul 23 12:53:15 +0000 2018               7              4   \n",
       "\n",
       "     image_count  \n",
       "0              0  \n",
       "1              0  \n",
       "2              0  \n",
       "3              0  \n",
       "4              0  \n",
       "5              1  \n",
       "6              0  \n",
       "7              0  \n",
       "8              1  \n",
       "9              0  \n",
       "10             0  \n",
       "11             0  \n",
       "12             0  \n",
       "13             0  \n",
       "14             0  \n",
       "15             0  \n",
       "16             0  \n",
       "17             0  \n",
       "18             0  \n",
       "19             0  \n",
       "20             0  \n",
       "21             0  \n",
       "22             0  \n",
       "23             0  \n",
       "24             0  \n",
       "25             0  \n",
       "26             1  \n",
       "27             0  \n",
       "28             0  \n",
       "29             0  \n",
       "..           ...  \n",
       "303            0  \n",
       "304            0  \n",
       "305            1  \n",
       "306            0  \n",
       "307            1  \n",
       "308            0  \n",
       "309            0  \n",
       "310            0  \n",
       "311            0  \n",
       "312            1  \n",
       "313            0  \n",
       "314            0  \n",
       "315            1  \n",
       "316            0  \n",
       "317            0  \n",
       "318            0  \n",
       "319            0  \n",
       "320            0  \n",
       "321            0  \n",
       "322            0  \n",
       "323            0  \n",
       "324            0  \n",
       "325            0  \n",
       "326            0  \n",
       "327            0  \n",
       "328            0  \n",
       "329            0  \n",
       "330            1  \n",
       "331            0  \n",
       "332            0  \n",
       "\n",
       "[333 rows x 5 columns]"
      ]
     },
     "execution_count": 97,
     "metadata": {},
     "output_type": "execute_result"
    }
   ],
   "source": [
    "# convert dictionary into pandas dataframe\n",
    "pd.DataFrame(tweets_info)"
   ]
  },
  {
   "cell_type": "code",
   "execution_count": null,
   "metadata": {},
   "outputs": [],
   "source": []
  }
 ],
 "metadata": {
  "kernelspec": {
   "display_name": "Python 3",
   "language": "python",
   "name": "python3"
  },
  "language_info": {
   "codemirror_mode": {
    "name": "ipython",
    "version": 3
   },
   "file_extension": ".py",
   "mimetype": "text/x-python",
   "name": "python",
   "nbconvert_exporter": "python",
   "pygments_lexer": "ipython3",
   "version": "3.6.8"
  },
  "varInspector": {
   "cols": {
    "lenName": 16,
    "lenType": 16,
    "lenVar": 40
   },
   "kernels_config": {
    "python": {
     "delete_cmd_postfix": "",
     "delete_cmd_prefix": "del ",
     "library": "var_list.py",
     "varRefreshCmd": "print(var_dic_list())"
    },
    "r": {
     "delete_cmd_postfix": ") ",
     "delete_cmd_prefix": "rm(",
     "library": "var_list.r",
     "varRefreshCmd": "cat(var_dic_list()) "
    }
   },
   "types_to_exclude": [
    "module",
    "function",
    "builtin_function_or_method",
    "instance",
    "_Feature"
   ],
   "window_display": false
  }
 },
 "nbformat": 4,
 "nbformat_minor": 2
}
