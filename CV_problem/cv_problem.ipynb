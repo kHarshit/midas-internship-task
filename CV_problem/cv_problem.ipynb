{
 "cells": [
  {
   "cell_type": "code",
   "execution_count": 1,
   "metadata": {
    "ExecuteTime": {
     "end_time": "2019-04-08T14:19:33.716226Z",
     "start_time": "2019-04-08T14:19:23.478932Z"
    }
   },
   "outputs": [],
   "source": [
    "from tqdm import tqdm\n",
    "import csv\n",
    "import pickle\n",
    "import PIL.Image\n",
    "import numpy as np\n",
    "import pandas as pd\n",
    "import matplotlib.pyplot as plt\n",
    "from sklearn.model_selection import train_test_split\n",
    "import torch\n",
    "import torch.nn as nn\n",
    "import torch.nn.functional as F\n",
    "import torch.optim as optim\n",
    "from torch.utils.data import Dataset, DataLoader\n",
    "from torch.optim import lr_scheduler\n",
    "from torchvision import transforms, datasets\n",
    "\n",
    "%matplotlib inline"
   ]
  },
  {
   "cell_type": "markdown",
   "metadata": {},
   "source": [
    "# Table of Contents\n",
    "\n",
    "* [Preprocessing](#Preprocessing)\n",
    "* [Model](#Model)\n",
    "* [Training](#Training)\n",
    "* [Testing](#Testing)"
   ]
  },
  {
   "cell_type": "markdown",
   "metadata": {},
   "source": [
    "# Preprocessing"
   ]
  },
  {
   "cell_type": "code",
   "execution_count": 2,
   "metadata": {
    "ExecuteTime": {
     "end_time": "2019-04-08T14:20:05.794978Z",
     "start_time": "2019-04-08T14:20:04.720203Z"
    }
   },
   "outputs": [
    {
     "data": {
      "text/plain": [
       "((8000, 784), (8000,))"
      ]
     },
     "execution_count": 2,
     "metadata": {},
     "output_type": "execute_result"
    }
   ],
   "source": [
    "# load training images\n",
    "with open('./Vision_task_dataset_public/train_image.pkl', 'rb') as f:\n",
    "    images = pickle.load(f)\n",
    "images = np.array(images)\n",
    "\n",
    "# load labels\n",
    "with open('./Vision_task_dataset_public/train_label.pkl', 'rb') as f:\n",
    "    labels = pickle.load(f)\n",
    "labels = np.array(labels)\n",
    "\n",
    "images.shape, labels.shape"
   ]
  },
  {
   "cell_type": "markdown",
   "metadata": {},
   "source": [
    "### Labels: 4"
   ]
  },
  {
   "cell_type": "code",
   "execution_count": 3,
   "metadata": {
    "ExecuteTime": {
     "end_time": "2019-04-08T14:20:06.030735Z",
     "start_time": "2019-04-08T14:20:06.013411Z"
    }
   },
   "outputs": [
    {
     "data": {
      "text/plain": [
       "array([0, 2, 3, 6])"
      ]
     },
     "execution_count": 3,
     "metadata": {},
     "output_type": "execute_result"
    }
   ],
   "source": [
    "# check labels\n",
    "np.unique(labels)"
   ]
  },
  {
   "cell_type": "code",
   "execution_count": 4,
   "metadata": {
    "ExecuteTime": {
     "end_time": "2019-04-08T14:20:06.613953Z",
     "start_time": "2019-04-08T14:20:06.601096Z"
    }
   },
   "outputs": [
    {
     "data": {
      "text/plain": [
       "(0, 2, 3, 6)"
      ]
     },
     "execution_count": 4,
     "metadata": {},
     "output_type": "execute_result"
    }
   ],
   "source": [
    "# test labels at regular interval\n",
    "labels[0], labels[2000], labels[4000], labels[7999]"
   ]
  },
  {
   "cell_type": "markdown",
   "metadata": {},
   "source": [
    "Looks like data's sequentially arranged as per labels!"
   ]
  },
  {
   "cell_type": "markdown",
   "metadata": {},
   "source": [
    "**Convert labels into 0, 1, 2 and 3 respectively as PyTorch expects them in this format.**"
   ]
  },
  {
   "cell_type": "code",
   "execution_count": 5,
   "metadata": {
    "ExecuteTime": {
     "end_time": "2019-04-08T14:20:11.184961Z",
     "start_time": "2019-04-08T14:20:11.168395Z"
    }
   },
   "outputs": [],
   "source": [
    "labels[labels == 2] = 1\n",
    "labels[labels == 3] = 2\n",
    "labels[labels == 6] = 3"
   ]
  },
  {
   "cell_type": "code",
   "execution_count": 6,
   "metadata": {
    "ExecuteTime": {
     "end_time": "2019-04-08T14:20:11.770124Z",
     "start_time": "2019-04-08T14:20:11.749462Z"
    }
   },
   "outputs": [
    {
     "name": "stdout",
     "output_type": "stream",
     "text": [
      "[0 1 2 3]\n"
     ]
    },
    {
     "data": {
      "text/plain": [
       "(0, 1, 2, 3)"
      ]
     },
     "execution_count": 6,
     "metadata": {},
     "output_type": "execute_result"
    }
   ],
   "source": [
    "# check labels\n",
    "print(np.unique(labels))\n",
    "labels[0], labels[2000], labels[4000], labels[7999]"
   ]
  },
  {
   "cell_type": "markdown",
   "metadata": {},
   "source": [
    "### Images"
   ]
  },
  {
   "cell_type": "code",
   "execution_count": 7,
   "metadata": {
    "ExecuteTime": {
     "end_time": "2019-04-08T14:20:13.600951Z",
     "start_time": "2019-04-08T14:20:13.580521Z"
    }
   },
   "outputs": [
    {
     "data": {
      "text/plain": [
       "(784,)"
      ]
     },
     "execution_count": 7,
     "metadata": {},
     "output_type": "execute_result"
    }
   ],
   "source": [
    "images[0].shape"
   ]
  },
  {
   "cell_type": "code",
   "execution_count": 8,
   "metadata": {
    "ExecuteTime": {
     "end_time": "2019-04-08T14:20:16.558081Z",
     "start_time": "2019-04-08T14:20:16.535982Z"
    }
   },
   "outputs": [
    {
     "data": {
      "text/plain": [
       "28.0"
      ]
     },
     "execution_count": 8,
     "metadata": {},
     "output_type": "execute_result"
    }
   ],
   "source": [
    "np.sqrt(784)"
   ]
  },
  {
   "cell_type": "markdown",
   "metadata": {},
   "source": [
    "It seems that every image is a square of size 28x28.\n",
    "\n",
    "**Try** plotting those images."
   ]
  },
  {
   "cell_type": "code",
   "execution_count": 9,
   "metadata": {
    "ExecuteTime": {
     "end_time": "2019-04-08T14:20:17.751812Z",
     "start_time": "2019-04-08T14:20:17.479926Z"
    }
   },
   "outputs": [
    {
     "name": "stdout",
     "output_type": "stream",
     "text": [
      "(28, 28)\n"
     ]
    },
    {
     "data": {
      "text/plain": [
       "<matplotlib.image.AxesImage at 0x7f964797c5f8>"
      ]
     },
     "execution_count": 9,
     "metadata": {},
     "output_type": "execute_result"
    },
    {
     "data": {
      "image/png": "[encoded data removed]",
      "text/plain": [
       "<Figure size 432x288 with 1 Axes>"
      ]
     },
     "metadata": {
      "needs_background": "light"
     },
     "output_type": "display_data"
    }
   ],
   "source": [
    "img = images[0].reshape(28, 28)\n",
    "print(img.shape)\n",
    "img = PIL.Image.fromarray(img, mode='RGB')\n",
    "plt.imshow(img)"
   ]
  },
  {
   "cell_type": "code",
   "execution_count": 11,
   "metadata": {
    "ExecuteTime": {
     "end_time": "2019-04-08T14:21:01.490966Z",
     "start_time": "2019-04-08T14:21:01.297732Z"
    }
   },
   "outputs": [
    {
     "name": "stdout",
     "output_type": "stream",
     "text": [
      "(28, 28)\n"
     ]
    },
    {
     "data": {
      "text/plain": [
       "<matplotlib.image.AxesImage at 0x7f964484e7b8>"
      ]
     },
     "execution_count": 11,
     "metadata": {},
     "output_type": "execute_result"
    },
    {
     "data": {
      "image/png": "[encoded data removed]",
      "text/plain": [
       "<Figure size 432x288 with 1 Axes>"
      ]
     },
     "metadata": {
      "needs_background": "light"
     },
     "output_type": "display_data"
    }
   ],
   "source": [
    "img = images[4000].reshape(28, 28)\n",
    "print(img.shape)\n",
    "img = PIL.Image.fromarray(img, mode='L')\n",
    "plt.imshow(img)"
   ]
  },
  {
   "cell_type": "markdown",
   "metadata": {},
   "source": [
    "<div style=\"color:red\">Looks something off!</div>  \n",
    "Trying in a different way..."
   ]
  },
  {
   "cell_type": "code",
   "execution_count": 12,
   "metadata": {
    "ExecuteTime": {
     "end_time": "2019-04-08T14:21:05.103083Z",
     "start_time": "2019-04-08T14:21:04.913589Z"
    },
    "scrolled": true
   },
   "outputs": [
    {
     "data": {
      "text/plain": [
       "<matplotlib.image.AxesImage at 0x7f96448275c0>"
      ]
     },
     "execution_count": 12,
     "metadata": {},
     "output_type": "execute_result"
    },
    {
     "data": {
      "image/png": "[encoded data removed]",
      "text/plain": [
       "<Figure size 432x288 with 1 Axes>"
      ]
     },
     "metadata": {
      "needs_background": "light"
     },
     "output_type": "display_data"
    }
   ],
   "source": [
    "# label 0 image\n",
    "plt.imshow(images[0].reshape(1, 28, 28).squeeze(), cmap='Greys_r')"
   ]
  },
  {
   "cell_type": "code",
   "execution_count": 14,
   "metadata": {
    "ExecuteTime": {
     "end_time": "2019-04-08T11:02:39.973928Z",
     "start_time": "2019-04-08T11:02:39.846334Z"
    }
   },
   "outputs": [
    {
     "data": {
      "text/plain": [
       "<matplotlib.image.AxesImage at 0x7f24afb347b8>"
      ]
     },
     "execution_count": 14,
     "metadata": {},
     "output_type": "execute_result"
    },
    {
     "data": {
      "image/png": "[encoded data removed]",
      "text/plain": [
       "<Figure size 432x288 with 1 Axes>"
      ]
     },
     "metadata": {
      "needs_background": "light"
     },
     "output_type": "display_data"
    }
   ],
   "source": [
    "# label 1 image (corresponding to original 2 label)\n",
    "plt.imshow(images[2000].reshape(28, 28), cmap='Greys_r')"
   ]
  },
  {
   "cell_type": "code",
   "execution_count": 13,
   "metadata": {
    "ExecuteTime": {
     "end_time": "2019-04-08T14:21:45.833132Z",
     "start_time": "2019-04-08T14:21:45.550979Z"
    }
   },
   "outputs": [
    {
     "data": {
      "text/plain": [
       "<matplotlib.image.AxesImage at 0x7f96448014e0>"
      ]
     },
     "execution_count": 13,
     "metadata": {},
     "output_type": "execute_result"
    },
    {
     "data": {
      "image/png": "[encoded data removed]",
      "text/plain": [
       "<Figure size 432x288 with 1 Axes>"
      ]
     },
     "metadata": {
      "needs_background": "light"
     },
     "output_type": "display_data"
    }
   ],
   "source": [
    "# label 2 image (corresponding to original label 3)\n",
    "plt.imshow(images[4000].reshape(28, 28), cmap='Greys_r')"
   ]
  },
  {
   "cell_type": "code",
   "execution_count": 16,
   "metadata": {
    "ExecuteTime": {
     "end_time": "2019-04-08T11:02:43.789023Z",
     "start_time": "2019-04-08T11:02:43.663255Z"
    }
   },
   "outputs": [
    {
     "data": {
      "text/plain": [
       "<matplotlib.image.AxesImage at 0x7f24afa54a20>"
      ]
     },
     "execution_count": 16,
     "metadata": {},
     "output_type": "execute_result"
    },
    {
     "data": {
      "image/png": "[encoded data removed]",
      "text/plain": [
       "<Figure size 432x288 with 1 Axes>"
      ]
     },
     "metadata": {
      "needs_background": "light"
     },
     "output_type": "display_data"
    }
   ],
   "source": [
    "# label 3 image (corresponding to original label 6)\n",
    "plt.imshow(images[7999].reshape(28, 28), cmap='Greys_r')"
   ]
  },
  {
   "cell_type": "markdown",
   "metadata": {},
   "source": [
    "### Create PyTorch datasets and DataLoaders"
   ]
  },
  {
   "cell_type": "markdown",
   "metadata": {},
   "source": [
    "First split data using  sklearn `train_test_split` then convert into tensor"
   ]
  },
  {
   "cell_type": "code",
   "execution_count": 14,
   "metadata": {
    "ExecuteTime": {
     "end_time": "2019-04-08T14:23:05.397910Z",
     "start_time": "2019-04-08T14:23:05.324675Z"
    }
   },
   "outputs": [],
   "source": [
    "# randomly split the data\n",
    "X_train, X_test, y_train, y_test = train_test_split(images, labels, test_size=0.2, random_state=0)"
   ]
  },
  {
   "cell_type": "code",
   "execution_count": 15,
   "metadata": {
    "ExecuteTime": {
     "end_time": "2019-04-08T14:23:06.016839Z",
     "start_time": "2019-04-08T14:23:05.870271Z"
    }
   },
   "outputs": [],
   "source": [
    "# convert into pytorch tensors\n",
    "X_train = torch.stack([torch.from_numpy(np.array(i)) for i in X_train])\n",
    "X_test = torch.stack([torch.from_numpy(np.array(i)) for i in X_test])\n",
    "y_train = torch.stack([torch.from_numpy(np.array(i)) for i in y_train])\n",
    "y_test = torch.stack([torch.from_numpy(np.array(i)) for i in y_test])"
   ]
  },
  {
   "cell_type": "code",
   "execution_count": 16,
   "metadata": {
    "ExecuteTime": {
     "end_time": "2019-04-08T14:23:06.626621Z",
     "start_time": "2019-04-08T14:23:06.572997Z"
    }
   },
   "outputs": [],
   "source": [
    "# reshape into [C, H, W]\n",
    "X_train = X_train.reshape((-1, 1, 28, 28)).float()\n",
    "X_test = X_test.reshape((-1, 1, 28, 28)).float()"
   ]
  },
  {
   "cell_type": "code",
   "execution_count": 17,
   "metadata": {
    "ExecuteTime": {
     "end_time": "2019-04-08T14:23:06.999436Z",
     "start_time": "2019-04-08T14:23:06.982454Z"
    }
   },
   "outputs": [],
   "source": [
    "# create dataset and dataloaders\n",
    "train_dataset = torch.utils.data.TensorDataset(X_train, y_train)\n",
    "train_loader = torch.utils.data.DataLoader(train_dataset, batch_size=64)\n",
    "\n",
    "valid_dataset = torch.utils.data.TensorDataset(X_test, y_test)\n",
    "valid_loader = torch.utils.data.DataLoader(valid_dataset, batch_size=64)"
   ]
  },
  {
   "cell_type": "code",
   "execution_count": 18,
   "metadata": {
    "ExecuteTime": {
     "end_time": "2019-04-08T14:23:08.051026Z",
     "start_time": "2019-04-08T14:23:08.036414Z"
    }
   },
   "outputs": [
    {
     "data": {
      "text/plain": [
       "100"
      ]
     },
     "execution_count": 18,
     "metadata": {},
     "output_type": "execute_result"
    }
   ],
   "source": [
    "len(train_loader)"
   ]
  },
  {
   "cell_type": "code",
   "execution_count": 19,
   "metadata": {
    "ExecuteTime": {
     "end_time": "2019-04-08T14:23:08.567147Z",
     "start_time": "2019-04-08T14:23:08.562149Z"
    }
   },
   "outputs": [],
   "source": [
    "# for GPU\n",
    "device = torch.device(\"cuda:0\" if torch.cuda.is_available() else \"cpu\")"
   ]
  },
  {
   "cell_type": "markdown",
   "metadata": {},
   "source": [
    "Test data shapes of one batch one last time before moving on."
   ]
  },
  {
   "cell_type": "code",
   "execution_count": 20,
   "metadata": {
    "ExecuteTime": {
     "end_time": "2019-04-08T14:23:09.542341Z",
     "start_time": "2019-04-08T14:23:09.524205Z"
    },
    "scrolled": true
   },
   "outputs": [
    {
     "name": "stdout",
     "output_type": "stream",
     "text": [
      "<class 'torch.Tensor'>\n",
      "torch.Size([64, 1, 28, 28])\n",
      "torch.Size([64])\n"
     ]
    }
   ],
   "source": [
    "dataiter = iter(train_loader)\n",
    "tt, ll = dataiter.next()\n",
    "print(type(ll))\n",
    "print(tt.shape)\n",
    "print(ll.shape)"
   ]
  },
  {
   "cell_type": "markdown",
   "metadata": {},
   "source": [
    "Now, everything seems perfect!  \n",
    "<div style=\"color:green\">Ready to move on...</div>"
   ]
  },
  {
   "cell_type": "markdown",
   "metadata": {},
   "source": [
    "# Model\n",
    "\n",
    "Tried different combination of layers, finally using 3 conv > 2 fully connected layers with dropout probability 0.5. This combination gave better validation results compared to others.\n",
    "\n",
    "conv size: (W-F+2P)/S + 1"
   ]
  },
  {
   "cell_type": "code",
   "execution_count": 57,
   "metadata": {
    "ExecuteTime": {
     "end_time": "2019-04-08T15:05:31.158641Z",
     "start_time": "2019-04-08T15:05:31.123347Z"
    }
   },
   "outputs": [],
   "source": [
    "class Classifier(nn.Module):\n",
    "    def __init__(self):\n",
    "        super().__init__()\n",
    "        \n",
    "        # input image: (1, 28, 28)\n",
    "        # set padding s.t. conv layer has same height and width as previous layer\n",
    "        self.conv1 = nn.Conv2d(in_channels=1, out_channels=16, kernel_size=3, padding=1)\n",
    "        # (16, 28, 28) --> (16, 14, 14) (halved by max-pool)\n",
    "        self.conv2 = nn.Conv2d(16, 32, 3, padding=1)\n",
    "        # (32, 7, 7)\n",
    "        self.conv3 = nn.Conv2d(32, 64, 3, padding=1)\n",
    "        self.pool = nn.MaxPool2d(2, 2)\n",
    "        # (64, 3, 3)\n",
    "        self.fc1 = nn.Linear(64*3*3, 128)\n",
    "#         self.fc2 = nn.Linear(256, 128)\n",
    "        # no of labels `N_CLASSES`: 4\n",
    "        self.fc3 = nn.Linear(128, 4)\n",
    "\n",
    "        # dropout 0.2 drop probability\n",
    "        self.dropout = nn.Dropout(p=0.5)\n",
    "\n",
    "    def forward(self, x):\n",
    "        \n",
    "        x = self.pool(F.relu(self.conv1(x)))\n",
    "        x = self.pool(F.relu(self.conv2(x)))\n",
    "        x = self.pool(F.relu(self.conv3(x)))\n",
    "        \n",
    "        # flatten images input\n",
    "        x = x.view(-1, 64*3*3)\n",
    "\n",
    "        x = self.dropout(x)\n",
    "        x = F.relu(self.fc1(x))\n",
    "#         x = self.dropout(x)\n",
    "#         x = F.relu(self.fc2(x))\n",
    "\n",
    "        # output so no dropout here\n",
    "        x = self.fc3(x)\n",
    "\n",
    "        return x\n"
   ]
  },
  {
   "cell_type": "markdown",
   "metadata": {},
   "source": [
    "Using **Cross-entropy** loss and **Adam** optimizer with a learning rate of 0.001."
   ]
  },
  {
   "cell_type": "code",
   "execution_count": 66,
   "metadata": {
    "ExecuteTime": {
     "end_time": "2019-04-08T15:12:30.939520Z",
     "start_time": "2019-04-08T15:12:30.921381Z"
    }
   },
   "outputs": [],
   "source": [
    "model = Classifier()\n",
    "criterion = nn.CrossEntropyLoss()\n",
    "optimizer = optim.Adam(model.parameters(), lr=0.001)\n",
    "\n",
    "epochs = 20\n",
    "steps = 0"
   ]
  },
  {
   "cell_type": "code",
   "execution_count": 67,
   "metadata": {
    "ExecuteTime": {
     "end_time": "2019-04-08T15:12:31.660155Z",
     "start_time": "2019-04-08T15:12:31.646095Z"
    },
    "scrolled": true
   },
   "outputs": [
    {
     "name": "stdout",
     "output_type": "stream",
     "text": [
      "Classifier(\n",
      "  (conv1): Conv2d(1, 16, kernel_size=(3, 3), stride=(1, 1), padding=(1, 1))\n",
      "  (conv2): Conv2d(16, 32, kernel_size=(3, 3), stride=(1, 1), padding=(1, 1))\n",
      "  (conv3): Conv2d(32, 64, kernel_size=(3, 3), stride=(1, 1), padding=(1, 1))\n",
      "  (pool): MaxPool2d(kernel_size=2, stride=2, padding=0, dilation=1, ceil_mode=False)\n",
      "  (fc1): Linear(in_features=576, out_features=128, bias=True)\n",
      "  (fc3): Linear(in_features=128, out_features=4, bias=True)\n",
      "  (dropout): Dropout(p=0.5)\n",
      ")\n"
     ]
    }
   ],
   "source": [
    "print(model)"
   ]
  },
  {
   "cell_type": "code",
   "execution_count": 68,
   "metadata": {
    "ExecuteTime": {
     "end_time": "2019-04-08T15:12:31.969291Z",
     "start_time": "2019-04-08T15:12:31.940224Z"
    }
   },
   "outputs": [
    {
     "name": "stdout",
     "output_type": "stream",
     "text": [
      "----------------------------------------------------------------\n",
      "        Layer (type)               Output Shape         Param #\n",
      "================================================================\n",
      "            Conv2d-1           [-1, 16, 28, 28]             160\n",
      "         MaxPool2d-2           [-1, 16, 14, 14]               0\n",
      "            Conv2d-3           [-1, 32, 14, 14]           4,640\n",
      "         MaxPool2d-4             [-1, 32, 7, 7]               0\n",
      "            Conv2d-5             [-1, 64, 7, 7]          18,496\n",
      "         MaxPool2d-6             [-1, 64, 3, 3]               0\n",
      "           Dropout-7                  [-1, 576]               0\n",
      "            Linear-8                  [-1, 128]          73,856\n",
      "            Linear-9                    [-1, 4]             516\n",
      "================================================================\n",
      "Total params: 97,668\n",
      "Trainable params: 97,668\n",
      "Non-trainable params: 0\n",
      "----------------------------------------------------------------\n",
      "Input size (MB): 0.00\n",
      "Forward/backward pass size (MB): 0.21\n",
      "Params size (MB): 0.37\n",
      "Estimated Total Size (MB): 0.59\n",
      "----------------------------------------------------------------\n"
     ]
    }
   ],
   "source": [
    "from torchsummary import summary\n",
    "summary(model, input_size=(1, 28, 28))"
   ]
  },
  {
   "cell_type": "markdown",
   "metadata": {},
   "source": [
    "# Training"
   ]
  },
  {
   "cell_type": "code",
   "execution_count": 69,
   "metadata": {
    "ExecuteTime": {
     "end_time": "2019-04-08T15:13:45.426781Z",
     "start_time": "2019-04-08T15:12:35.767884Z"
    },
    "scrolled": false
   },
   "outputs": [
    {
     "name": "stdout",
     "output_type": "stream",
     "text": [
      "Epoch: 1/20..  Training Loss: 0.887..  Valid Loss: 0.593.. \n",
      "Validation loss decreased (inf --> 0.593).  Saving model ...\n",
      "Epoch: 2/20..  Training Loss: 0.565..  Valid Loss: 0.514.. \n",
      "Validation loss decreased (0.593 --> 0.514).  Saving model ...\n",
      "Epoch: 3/20..  Training Loss: 0.501..  Valid Loss: 0.460.. \n",
      "Validation loss decreased (0.514 --> 0.460).  Saving model ...\n",
      "Epoch: 4/20..  Training Loss: 0.461..  Valid Loss: 0.461.. \n",
      "Epoch: 5/20..  Training Loss: 0.431..  Valid Loss: 0.436.. \n",
      "Validation loss decreased (0.460 --> 0.436).  Saving model ...\n",
      "Epoch: 6/20..  Training Loss: 0.419..  Valid Loss: 0.416.. \n",
      "Validation loss decreased (0.436 --> 0.416).  Saving model ...\n",
      "Epoch: 7/20..  Training Loss: 0.395..  Valid Loss: 0.415.. \n",
      "Validation loss decreased (0.416 --> 0.415).  Saving model ...\n",
      "Epoch: 8/20..  Training Loss: 0.365..  Valid Loss: 0.391.. \n",
      "Validation loss decreased (0.415 --> 0.391).  Saving model ...\n",
      "Epoch: 9/20..  Training Loss: 0.351..  Valid Loss: 0.383.. \n",
      "Validation loss decreased (0.391 --> 0.383).  Saving model ...\n",
      "Epoch: 10/20..  Training Loss: 0.347..  Valid Loss: 0.392.. \n",
      "Epoch: 11/20..  Training Loss: 0.324..  Valid Loss: 0.389.. \n",
      "Epoch: 12/20..  Training Loss: 0.316..  Valid Loss: 0.391.. \n",
      "Epoch: 13/20..  Training Loss: 0.303..  Valid Loss: 0.380.. \n",
      "Validation loss decreased (0.383 --> 0.380).  Saving model ...\n",
      "Epoch: 14/20..  Training Loss: 0.293..  Valid Loss: 0.393.. \n",
      "Epoch: 15/20..  Training Loss: 0.291..  Valid Loss: 0.373.. \n",
      "Validation loss decreased (0.380 --> 0.373).  Saving model ...\n",
      "Epoch: 16/20..  Training Loss: 0.279..  Valid Loss: 0.380.. \n",
      "Epoch: 17/20..  Training Loss: 0.254..  Valid Loss: 0.402.. \n",
      "Epoch: 18/20..  Training Loss: 0.267..  Valid Loss: 0.374.. \n",
      "Epoch: 19/20..  Training Loss: 0.250..  Valid Loss: 0.382.. \n",
      "Epoch: 20/20..  Training Loss: 0.244..  Valid Loss: 0.371.. \n",
      "Validation loss decreased (0.373 --> 0.371).  Saving model ...\n"
     ]
    }
   ],
   "source": [
    "# initialize tracker for losses\n",
    "train_losses, test_losses = [], []\n",
    "valid_loss_min = np.Inf\n",
    "\n",
    "for e in range(epochs):\n",
    "    running_loss = 0\n",
    "    \n",
    "    ### training loop ###\n",
    "    for images, labels in train_loader:\n",
    "        \n",
    "        # clear the gradients \n",
    "        optimizer.zero_grad()\n",
    "        # forward pass\n",
    "        outputs = model(images)\n",
    "        # prediction\n",
    "        _, preds = torch.max(outputs, 1)\n",
    "        # calculate loss\n",
    "        loss = criterion(outputs, labels)\n",
    "        # bacward pass\n",
    "        loss.backward()\n",
    "        # optimization\n",
    "        optimizer.step()\n",
    "        \n",
    "        running_loss += loss.item()\n",
    "        \n",
    "    else:\n",
    "        \n",
    "        ### validation loop ###\n",
    "        valid_loss = 0\n",
    "        accuracy = 0\n",
    "        \n",
    "        # turn off gradients for validation, saves memory and computations\n",
    "        with torch.no_grad():\n",
    "            # set model to evaluation mode\n",
    "            model.eval()\n",
    "\n",
    "            for images, labels in valid_loader:\n",
    "                outputs = model(images)\n",
    "                valid_loss += criterion(outputs, labels)\n",
    "                \n",
    "        # set model back to training mode\n",
    "        model.train()\n",
    "        \n",
    "        # calculate average losses (per epoch)\n",
    "        train_avg_loss = running_loss/len(train_loader)\n",
    "        valid_avg_loss = valid_loss/len(valid_loader)\n",
    "        train_losses.append(train_avg_loss)\n",
    "        test_losses.append(valid_avg_loss)\n",
    "\n",
    "        print(\"Epoch: {}/{}.. \".format(e+1, epochs),\n",
    "              \"Training Loss: {:.3f}.. \".format(train_avg_loss),\n",
    "              \"Valid Loss: {:.3f}.. \".format(valid_avg_loss))\n",
    "#               \"Test Accuracy: {:.3f}\".format(accuracy/len(valid_loader)))\n",
    "        if valid_avg_loss <= valid_loss_min:\n",
    "            print(f'Validation loss decreased ({valid_loss_min:.3f} --> {valid_avg_loss:.3f}).  Saving model ...')\n",
    "            torch.save(model.state_dict(), 'model.pt')\n",
    "            valid_loss_min = valid_avg_loss\n"
   ]
  },
  {
   "cell_type": "code",
   "execution_count": 70,
   "metadata": {
    "ExecuteTime": {
     "end_time": "2019-04-08T15:15:28.260017Z",
     "start_time": "2019-04-08T15:15:27.936074Z"
    },
    "scrolled": true
   },
   "outputs": [
    {
     "data": {
      "text/plain": [
       "<matplotlib.legend.Legend at 0x7f96425f6320>"
      ]
     },
     "execution_count": 70,
     "metadata": {},
     "output_type": "execute_result"
    },
    {
     "data": {
      "image/png": "[encoded data removed]",
      "text/plain": [
       "<Figure size 432x288 with 1 Axes>"
      ]
     },
     "metadata": {
      "needs_background": "light"
     },
     "output_type": "display_data"
    }
   ],
   "source": [
    "plt.plot(train_losses, label='Training loss')\n",
    "plt.plot(test_losses, label='Validation loss')\n",
    "plt.legend(frameon=False)"
   ]
  },
  {
   "cell_type": "code",
   "execution_count": 71,
   "metadata": {
    "ExecuteTime": {
     "end_time": "2019-04-08T15:15:46.416205Z",
     "start_time": "2019-04-08T15:15:46.228790Z"
    }
   },
   "outputs": [],
   "source": [
    "# load the model that got the best validation accuracy\n",
    "model.load_state_dict(torch.load('model.pt'))"
   ]
  },
  {
   "cell_type": "markdown",
   "metadata": {},
   "source": [
    "# Testing"
   ]
  },
  {
   "cell_type": "code",
   "execution_count": 72,
   "metadata": {
    "ExecuteTime": {
     "end_time": "2019-04-08T15:16:00.822283Z",
     "start_time": "2019-04-08T15:16:00.336369Z"
    }
   },
   "outputs": [
    {
     "data": {
      "text/plain": [
       "(2000, 784)"
      ]
     },
     "execution_count": 72,
     "metadata": {},
     "output_type": "execute_result"
    }
   ],
   "source": [
    "# load testing data\n",
    "with open('./Vision_task_dataset_public/test_image.pkl', 'rb') as f:\n",
    "    test = pickle.load(f)\n",
    "test = np.array(test)\n",
    "test.shape"
   ]
  },
  {
   "cell_type": "code",
   "execution_count": 73,
   "metadata": {
    "ExecuteTime": {
     "end_time": "2019-04-08T15:16:01.596206Z",
     "start_time": "2019-04-08T15:16:01.515110Z"
    }
   },
   "outputs": [],
   "source": [
    "# convert into pytorch tensor\n",
    "test = torch.stack([torch.from_numpy(np.array(i)) for i in test])"
   ]
  },
  {
   "cell_type": "code",
   "execution_count": 74,
   "metadata": {
    "ExecuteTime": {
     "end_time": "2019-04-08T15:16:02.266216Z",
     "start_time": "2019-04-08T15:16:02.230467Z"
    }
   },
   "outputs": [
    {
     "data": {
      "text/plain": [
       "(torch.Size([2000, 1, 28, 28]), torch.float32)"
      ]
     },
     "execution_count": 74,
     "metadata": {},
     "output_type": "execute_result"
    }
   ],
   "source": [
    "# reshape into [B, C, H, W]\n",
    "test = test.reshape((-1, 1, 28, 28)).float()\n",
    "test.shape, test.dtype"
   ]
  },
  {
   "cell_type": "markdown",
   "metadata": {},
   "source": [
    "<div style=\"color:blue\">Check prediction on single image</div>"
   ]
  },
  {
   "cell_type": "code",
   "execution_count": 75,
   "metadata": {
    "ExecuteTime": {
     "end_time": "2019-04-08T15:16:03.669658Z",
     "start_time": "2019-04-08T15:16:03.483127Z"
    }
   },
   "outputs": [
    {
     "data": {
      "text/plain": [
       "<matplotlib.image.AxesImage at 0x7f9642422470>"
      ]
     },
     "execution_count": 75,
     "metadata": {},
     "output_type": "execute_result"
    },
    {
     "data": {
      "image/png": "[encoded data removed]",
      "text/plain": [
       "<Figure size 432x288 with 1 Axes>"
      ]
     },
     "metadata": {
      "needs_background": "light"
     },
     "output_type": "display_data"
    }
   ],
   "source": [
    "plt.imshow(test[0].reshape(1, 28, 28).squeeze(), cmap='Greys_r')"
   ]
  },
  {
   "cell_type": "code",
   "execution_count": 76,
   "metadata": {
    "ExecuteTime": {
     "end_time": "2019-04-08T15:16:04.870186Z",
     "start_time": "2019-04-08T15:16:04.829460Z"
    },
    "scrolled": true
   },
   "outputs": [
    {
     "data": {
      "text/plain": [
       "0"
      ]
     },
     "execution_count": 76,
     "metadata": {},
     "output_type": "execute_result"
    }
   ],
   "source": [
    "# convert output probabilities to predicted class\n",
    "_, preds = torch.max(model(test[0].unsqueeze_(0)), 1)\n",
    "preds.item()"
   ]
  },
  {
   "cell_type": "markdown",
   "metadata": {},
   "source": [
    "Looks like the correct predicted value!  \n",
    "\n",
    "**<div style=\"color:blue\">Prediction on all test images</div>**"
   ]
  },
  {
   "cell_type": "code",
   "execution_count": 77,
   "metadata": {
    "ExecuteTime": {
     "end_time": "2019-04-08T15:16:09.157986Z",
     "start_time": "2019-04-08T15:16:05.966953Z"
    },
    "code_folding": []
   },
   "outputs": [],
   "source": [
    "result = []\n",
    "for i in range(len(test)):\n",
    "    _, preds = torch.max(model(test[i].unsqueeze_(0)), 1)\n",
    "    result.append(preds.item())\n",
    "result = np.array(result)"
   ]
  },
  {
   "cell_type": "code",
   "execution_count": 78,
   "metadata": {
    "ExecuteTime": {
     "end_time": "2019-04-08T15:16:10.066712Z",
     "start_time": "2019-04-08T15:16:10.050775Z"
    }
   },
   "outputs": [
    {
     "data": {
      "text/plain": [
       "array([0, 0, 0, 0, 0, 0, 0, 0, 0, 0, 0, 0, 0, 0, 0, 0, 0, 0, 0, 0, 0, 0,\n",
       "       0, 0, 0, 0, 0, 0, 0, 0, 0, 0, 0, 0, 3, 0, 0, 3, 0, 0, 3, 0, 0, 0,\n",
       "       3, 0, 0, 1, 0, 0, 0, 0, 0, 0, 0, 0, 0, 0, 0, 0, 0, 0, 0, 0, 0, 0,\n",
       "       0, 0, 0, 0, 0, 0, 0, 0, 3, 0, 3, 0, 0, 0, 0, 0, 2, 0, 0, 0, 0, 0,\n",
       "       0, 3, 0, 2, 0, 0, 0, 0, 0, 0, 0, 3, 3, 0, 0, 0, 0, 3, 3, 3, 0, 0,\n",
       "       0, 0, 0, 0, 2, 0, 3, 0, 0, 0, 0, 0, 0, 0, 0, 3, 0, 0, 0, 3, 0, 0,\n",
       "       0, 0, 0, 3, 0, 0, 0, 0, 0, 0, 1, 0, 0, 0, 3, 0, 0, 0, 0, 0, 0, 2,\n",
       "       0, 0, 0, 3, 3, 0, 3, 0, 0, 0, 0, 0, 3, 0, 0, 3, 0, 0, 0, 0, 0, 0,\n",
       "       0, 0, 0, 0, 0, 0, 0, 0, 0, 0, 0, 3, 0, 0, 0, 0, 2, 0, 0, 0, 0, 0,\n",
       "       0, 0, 0, 0, 0, 0, 0, 0, 0, 0, 0, 0, 0, 0, 0, 0, 0, 0, 2, 0, 0, 0,\n",
       "       0, 0, 1, 0, 0, 0, 0, 0, 0, 0, 0, 0, 0, 0, 0, 0, 0, 0, 0, 0, 0, 0,\n",
       "       0, 0, 0, 0, 0, 0, 3, 0, 0, 3, 0, 0, 3, 0, 0, 0, 0, 0, 1, 0, 0, 3,\n",
       "       0, 3, 0, 0, 0, 0, 0, 3, 1, 0, 0, 0, 0, 0, 0, 3, 0, 0, 0, 0, 0, 0,\n",
       "       0, 0, 1, 0, 1, 3, 0, 0, 0, 1, 0, 0, 0, 0])"
      ]
     },
     "execution_count": 78,
     "metadata": {},
     "output_type": "execute_result"
    }
   ],
   "source": [
    "result[:300]"
   ]
  },
  {
   "cell_type": "markdown",
   "metadata": {},
   "source": [
    "**Convert labels back to 6, 3, 2, and 0 from 3, 2, 1, and 0 respectively.**"
   ]
  },
  {
   "cell_type": "code",
   "execution_count": 79,
   "metadata": {
    "ExecuteTime": {
     "end_time": "2019-04-08T15:16:11.751289Z",
     "start_time": "2019-04-08T15:16:11.738600Z"
    }
   },
   "outputs": [],
   "source": [
    "result[result == 3] = 6\n",
    "result[result == 2] = 3\n",
    "result[result == 1] = 2"
   ]
  },
  {
   "cell_type": "code",
   "execution_count": 80,
   "metadata": {
    "ExecuteTime": {
     "end_time": "2019-04-08T15:16:12.318079Z",
     "start_time": "2019-04-08T15:16:12.305014Z"
    }
   },
   "outputs": [
    {
     "data": {
      "text/plain": [
       "array([0, 0, 0, 0, 0, 0, 0, 0, 0, 0, 0, 0, 0, 0, 0, 0, 0, 0, 0, 0, 0, 0,\n",
       "       0, 0, 0, 0, 0, 0, 0, 0, 0, 0, 0, 0, 6, 0, 0, 6, 0, 0, 6, 0, 0, 0,\n",
       "       6, 0, 0, 2, 0, 0, 0, 0, 0, 0, 0, 0, 0, 0, 0, 0, 0, 0, 0, 0, 0, 0,\n",
       "       0, 0, 0, 0, 0, 0, 0, 0, 6, 0, 6, 0, 0, 0, 0, 0, 3, 0, 0, 0, 0, 0,\n",
       "       0, 6, 0, 3, 0, 0, 0, 0, 0, 0, 0, 6, 6, 0, 0, 0, 0, 6, 6, 6, 0, 0,\n",
       "       0, 0, 0, 0, 3, 0, 6, 0, 0, 0, 0, 0, 0, 0, 0, 6, 0, 0, 0, 6, 0, 0,\n",
       "       0, 0, 0, 6, 0, 0, 0, 0, 0, 0, 2, 0, 0, 0, 6, 0, 0, 0, 0, 0, 0, 3,\n",
       "       0, 0, 0, 6, 6, 0, 6, 0, 0, 0, 0, 0, 6, 0, 0, 6, 0, 0, 0, 0, 0, 0,\n",
       "       0, 0, 0, 0, 0, 0, 0, 0, 0, 0, 0, 6, 0, 0, 0, 0, 3, 0, 0, 0, 0, 0,\n",
       "       0, 0, 0, 0, 0, 0, 0, 0, 0, 0, 0, 0, 0, 0, 0, 0, 0, 0, 3, 0, 0, 0,\n",
       "       0, 0, 2, 0, 0, 0, 0, 0, 0, 0, 0, 0, 0, 0, 0, 0, 0, 0, 0, 0, 0, 0,\n",
       "       0, 0, 0, 0, 0, 0, 6, 0, 0, 6, 0, 0, 6, 0, 0, 0, 0, 0, 2, 0, 0, 6,\n",
       "       0, 6, 0, 0, 0, 0, 0, 6, 2, 0, 0, 0, 0, 0, 0, 6, 0, 0, 0, 0, 0, 0,\n",
       "       0, 0, 2, 0, 2, 6, 0, 0, 0, 2, 0, 0, 0, 0])"
      ]
     },
     "execution_count": 80,
     "metadata": {},
     "output_type": "execute_result"
    }
   ],
   "source": [
    "result[:300]"
   ]
  },
  {
   "cell_type": "code",
   "execution_count": 83,
   "metadata": {
    "ExecuteTime": {
     "end_time": "2019-04-08T15:26:41.977021Z",
     "start_time": "2019-04-08T15:26:41.953837Z"
    }
   },
   "outputs": [
    {
     "data": {
      "text/plain": [
       "array([0, 2, 3, 6])"
      ]
     },
     "execution_count": 83,
     "metadata": {},
     "output_type": "execute_result"
    }
   ],
   "source": [
    "np.unique(result)"
   ]
  },
  {
   "cell_type": "markdown",
   "metadata": {
    "ExecuteTime": {
     "end_time": "2019-04-08T15:29:32.912287Z",
     "start_time": "2019-04-08T15:29:32.896832Z"
    }
   },
   "source": [
    "Check prediction value statistics"
   ]
  },
  {
   "cell_type": "code",
   "execution_count": 85,
   "metadata": {
    "ExecuteTime": {
     "end_time": "2019-04-08T15:29:39.827548Z",
     "start_time": "2019-04-08T15:29:39.809005Z"
    }
   },
   "outputs": [
    {
     "data": {
      "text/plain": [
       "Counter({0: 544, 6: 499, 2: 473, 3: 484})"
      ]
     },
     "execution_count": 85,
     "metadata": {},
     "output_type": "execute_result"
    }
   ],
   "source": [
    "from collections import Counter\n",
    "Counter(result)"
   ]
  },
  {
   "cell_type": "markdown",
   "metadata": {},
   "source": [
    "Perfect! Ready to submit..."
   ]
  },
  {
   "cell_type": "code",
   "execution_count": 81,
   "metadata": {
    "ExecuteTime": {
     "end_time": "2019-04-08T15:16:24.633098Z",
     "start_time": "2019-04-08T15:16:24.624011Z"
    }
   },
   "outputs": [],
   "source": [
    "# using zip so as to be able to use csv writer to write data in columns instead of rows\n",
    "rows = zip(range(len(result)), result)"
   ]
  },
  {
   "cell_type": "code",
   "execution_count": 82,
   "metadata": {
    "ExecuteTime": {
     "end_time": "2019-04-08T15:16:27.731944Z",
     "start_time": "2019-04-08T15:16:27.703084Z"
    }
   },
   "outputs": [],
   "source": [
    "with open('harshit_kumar.csv', 'w') as f:\n",
    "    writer = csv.writer(f)\n",
    "    writer.writerow(['image_index', 'class'])\n",
    "    for row in rows:\n",
    "        writer.writerow(row)"
   ]
  },
  {
   "cell_type": "code",
   "execution_count": null,
   "metadata": {},
   "outputs": [],
   "source": []
  }
 ],
 "metadata": {
  "kernelspec": {
   "display_name": "Python 3",
   "language": "python",
   "name": "python3"
  },
  "language_info": {
   "codemirror_mode": {
    "name": "ipython",
    "version": 3
   },
   "file_extension": ".py",
   "mimetype": "text/x-python",
   "name": "python",
   "nbconvert_exporter": "python",
   "pygments_lexer": "ipython3",
   "version": "3.6.8"
  },
  "varInspector": {
   "cols": {
    "lenName": 16,
    "lenType": 16,
    "lenVar": 40
   },
   "kernels_config": {
    "python": {
     "delete_cmd_postfix": "",
     "delete_cmd_prefix": "del ",
     "library": "var_list.py",
     "varRefreshCmd": "print(var_dic_list())"
    },
    "r": {
     "delete_cmd_postfix": ") ",
     "delete_cmd_prefix": "rm(",
     "library": "var_list.r",
     "varRefreshCmd": "cat(var_dic_list()) "
    }
   },
   "types_to_exclude": [
    "module",
    "function",
    "builtin_function_or_method",
    "instance",
    "_Feature"
   ],
   "window_display": false
  }
 },
 "nbformat": 4,
 "nbformat_minor": 2
}
