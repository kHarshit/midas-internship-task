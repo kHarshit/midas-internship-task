{
 "cells": [
  {
   "cell_type": "code",
   "execution_count": 35,
   "metadata": {
    "ExecuteTime": {
     "end_time": "2019-04-08T08:01:47.637462Z",
     "start_time": "2019-04-08T08:01:47.459560Z"
    }
   },
   "outputs": [],
   "source": [
    "from tqdm import tqdm\n",
    "import pickle\n",
    "import PIL.Image\n",
    "import numpy as np\n",
    "import pandas as pd\n",
    "import matplotlib.pyplot as plt\n",
    "import torch\n",
    "import torch.nn as nn\n",
    "import torch.nn.functional as F\n",
    "import torch.optim as optim\n",
    "from torch.utils.data import Dataset, DataLoader\n",
    "from torch.optim import lr_scheduler\n",
    "from torchvision import transforms, datasets\n",
    "\n",
    "%matplotlib inline"
   ]
  },
  {
   "cell_type": "markdown",
   "metadata": {},
   "source": [
    "# Table of Contents\n",
    "\n",
    "* [Preprocessing](#Preprocessing)\n",
    "* [Model](#Model)\n",
    "* [Training](#Training)"
   ]
  },
  {
   "cell_type": "markdown",
   "metadata": {},
   "source": [
    "# Preprocessing"
   ]
  },
  {
   "cell_type": "code",
   "execution_count": 2,
   "metadata": {
    "ExecuteTime": {
     "end_time": "2019-04-08T07:48:33.974004Z",
     "start_time": "2019-04-08T07:48:33.068827Z"
    }
   },
   "outputs": [
    {
     "data": {
      "text/plain": [
       "(8000, 784)"
      ]
     },
     "execution_count": 2,
     "metadata": {},
     "output_type": "execute_result"
    }
   ],
   "source": [
    "with open('./Vision_task_dataset_public/train_image.pkl', 'rb') as f:\n",
    "    images = pickle.load(f)\n",
    "images = np.array(images)\n",
    "images.shape"
   ]
  },
  {
   "cell_type": "code",
   "execution_count": 3,
   "metadata": {
    "ExecuteTime": {
     "end_time": "2019-04-08T07:48:34.024076Z",
     "start_time": "2019-04-08T07:48:33.984340Z"
    }
   },
   "outputs": [
    {
     "data": {
      "text/plain": [
       "(8000,)"
      ]
     },
     "execution_count": 3,
     "metadata": {},
     "output_type": "execute_result"
    }
   ],
   "source": [
    "with open('./Vision_task_dataset_public/train_label.pkl', 'rb') as f:\n",
    "    labels = pickle.load(f)\n",
    "labels = np.array(labels)\n",
    "labels.shape"
   ]
  },
  {
   "cell_type": "markdown",
   "metadata": {},
   "source": [
    "### Labels: 4"
   ]
  },
  {
   "cell_type": "code",
   "execution_count": 17,
   "metadata": {
    "ExecuteTime": {
     "end_time": "2019-04-08T07:55:00.827385Z",
     "start_time": "2019-04-08T07:55:00.808545Z"
    }
   },
   "outputs": [
    {
     "data": {
      "text/plain": [
       "array([0, 2, 3, 6])"
      ]
     },
     "execution_count": 17,
     "metadata": {},
     "output_type": "execute_result"
    }
   ],
   "source": [
    "np.unique(labels)"
   ]
  },
  {
   "cell_type": "code",
   "execution_count": 39,
   "metadata": {
    "ExecuteTime": {
     "end_time": "2019-04-08T08:06:38.064162Z",
     "start_time": "2019-04-08T08:06:38.045761Z"
    }
   },
   "outputs": [
    {
     "data": {
      "text/plain": [
       "(0, 2, 3, 6)"
      ]
     },
     "execution_count": 39,
     "metadata": {},
     "output_type": "execute_result"
    }
   ],
   "source": [
    "labels[0], labels[2000], labels[4000], labels[7999]"
   ]
  },
  {
   "cell_type": "markdown",
   "metadata": {},
   "source": [
    "### Images"
   ]
  },
  {
   "cell_type": "code",
   "execution_count": 20,
   "metadata": {
    "ExecuteTime": {
     "end_time": "2019-04-08T07:58:39.998072Z",
     "start_time": "2019-04-08T07:58:39.970316Z"
    }
   },
   "outputs": [
    {
     "data": {
      "text/plain": [
       "(array([  0,   0,   0,   0,   0,   1,   0,   0,   0,   0,  41, 188, 103,\n",
       "         54,  48,  43,  87, 168, 133,  16,   0,   0,   0,   0,   0,   0,\n",
       "          0,   0,   0,   0,   0,   1,   0,   0,   0,  49, 136, 219, 216,\n",
       "        228, 236, 255, 255, 255, 255, 217, 215, 254, 231, 160,  45,   0,\n",
       "          0,   0,   0,   0,   0,   0,   0,   0,   0,  14, 176, 222, 224,\n",
       "        212, 203, 198, 196, 200, 215, 204, 202, 201, 201, 201, 209, 218,\n",
       "        224, 164,   0,   0,   0,   0,   0,   0,   0,   0,   0, 188, 219,\n",
       "        200, 198, 202, 198, 199, 199, 201, 196, 198, 198, 200, 200, 200,\n",
       "        200, 201, 200, 225,  41,   0,   0,   0,   0,   0,   0,   0,  51,\n",
       "        219, 199, 203, 203, 212, 238, 248, 250, 245, 249, 246, 247, 252,\n",
       "        248, 235, 207, 203, 203, 222, 140,   0,   0,   0,   0,   0,   0,\n",
       "          0, 116, 226, 206, 204, 207, 204, 101,  75,  47,  73,  48,  50,\n",
       "         45,  51,  63, 113, 222, 202, 206, 220, 224,   0,   0,   0,   0,\n",
       "          0,   0,   0, 200, 222, 209, 203, 215, 200,   0,  70,  98,   0,\n",
       "        103,  59,  68,  71,  49,   0, 219, 206, 214, 210, 250,  38,   0,\n",
       "          0,   0,   0,   0,   0, 247, 218, 212, 210, 215, 214,   0, 254,\n",
       "        243, 139, 255, 174, 251, 255, 205,   0, 215, 217, 214, 208, 220,\n",
       "         95,   0,   0,   0,   0,   0,  45, 226, 214, 214, 215, 224, 205,\n",
       "          0,  42,  35,  60,  16,  17,  12,  13,  70,   0, 189, 216, 212,\n",
       "        206, 212, 156,   0,   0,   0,   0,   0, 164, 235, 214, 211, 220,\n",
       "        216, 201,  52,  71,  89,  94,  83,  78,  70,  76,  92,  87, 206,\n",
       "        207, 222, 213, 219, 208,   0,   0,   0,   0,   0, 106, 187, 223,\n",
       "        237, 248, 211, 198, 252, 250, 248, 245, 248, 252, 253, 250, 252,\n",
       "        239, 201, 212, 225, 215, 193, 113,   0,   0,   0,   0,   0,   0,\n",
       "          0,  17,  54, 159, 222, 193, 208, 192, 197, 200, 200, 200, 200,\n",
       "        201, 203, 195, 210, 165,   0,   0,   0,   0,   0,   0,   0,   0,\n",
       "          0,   0,   0,   0,   0,  47, 225, 192, 214, 203, 206, 204, 204,\n",
       "        205, 206, 204, 212, 197, 218, 107,   0,   0,   0,   0,   0,   0,\n",
       "          0,   0,   0,   0,   1,   6,   0,  46, 212, 195, 212, 202, 206,\n",
       "        205, 204, 205, 206, 204, 212, 200, 218,  91,   0,   3,   1,   0,\n",
       "          0,   0,   0,   0,   0,   0,   0,   1,   0,  11, 197, 199, 205,\n",
       "        202, 205, 206, 204, 205, 207, 204, 205, 205, 218,  77,   0,   5,\n",
       "          0,   0,   0,   0,   0,   0,   0,   0,   0,   3,   0,   2, 191,\n",
       "        198, 201, 205, 206, 205, 205, 206, 209, 206, 199, 209, 219,  74,\n",
       "          0,   5,   0,   0,   0,   0,   0,   0,   0,   0,   0,   2,   0,\n",
       "          0, 188, 197, 200, 207, 207, 204, 207, 207, 210, 208, 198, 207,\n",
       "        221,  72,   0,   4,   0,   0,   0,   0,   0,   0,   0,   0,   0,\n",
       "          2,   0,   0, 215, 198, 203, 206, 208, 205, 207, 207, 210, 208,\n",
       "        200, 202, 222,  75,   0,   4,   0,   0,   0,   0,   0,   0,   0,\n",
       "          0,   0,   1,   0,   0, 212, 198, 209, 206, 209, 206, 208, 207,\n",
       "        211, 206, 205, 198, 221,  80,   0,   3,   0,   0,   0,   0,   0,\n",
       "          0,   0,   0,   0,   1,   0,   0, 204, 201, 205, 208, 207, 205,\n",
       "        211, 205, 210, 210, 209, 195, 221,  96,   0,   3,   0,   0,   0,\n",
       "          0,   0,   0,   0,   0,   0,   1,   0,   0, 202, 201, 205, 209,\n",
       "        207, 205, 213, 206, 210, 209, 210, 194, 217, 105,   0,   2,   0,\n",
       "          0,   0,   0,   0,   0,   0,   0,   0,   1,   0,   0, 204, 204,\n",
       "        205, 208, 207, 205, 215, 207, 210, 208, 211, 193, 213, 115,   0,\n",
       "          2,   0,   0,   0,   0,   0,   0,   0,   0,   0,   0,   0,   0,\n",
       "        204, 207, 207, 208, 206, 206, 215, 210, 210, 207, 212, 195, 210,\n",
       "        118,   0,   2,   0,   0,   0,   0,   0,   0,   0,   0,   0,   1,\n",
       "          0,   0, 198, 208, 208, 208, 204, 207, 212, 212, 210, 207, 211,\n",
       "        196, 207, 121,   0,   1,   0,   0,   0,   0,   0,   0,   0,   0,\n",
       "          0,   1,   0,   0, 198, 210, 207, 208, 206, 209, 213, 212, 211,\n",
       "        207, 210, 197, 207, 124,   0,   1,   0,   0,   0,   0,   0,   0,\n",
       "          0,   0,   0,   0,   0,   0, 172, 210, 203, 201, 199, 204, 207,\n",
       "        205, 204, 201, 205, 197, 206, 127,   0,   0,   0,   0,   0,   0,\n",
       "          0,   0,   0,   0,   0,   0,   0,   0, 188, 221, 214, 234, 236,\n",
       "        238, 244, 244, 244, 240, 243, 214, 224, 162,   0,   2,   0,   0,\n",
       "          0,   0,   0,   0,   0,   0,   0,   1,   0,   0, 139, 146, 130,\n",
       "        135, 135, 137, 125, 124, 125, 121, 119, 114, 130,  76,   0,   0,\n",
       "          0,   0,   0,   0]), 0)"
      ]
     },
     "execution_count": 20,
     "metadata": {},
     "output_type": "execute_result"
    }
   ],
   "source": [
    "images[0], labels[0]"
   ]
  },
  {
   "cell_type": "code",
   "execution_count": 7,
   "metadata": {
    "ExecuteTime": {
     "end_time": "2019-04-08T07:49:07.543493Z",
     "start_time": "2019-04-08T07:49:07.520889Z"
    }
   },
   "outputs": [
    {
     "data": {
      "text/plain": [
       "(784,)"
      ]
     },
     "execution_count": 7,
     "metadata": {},
     "output_type": "execute_result"
    }
   ],
   "source": [
    "images[0].shape"
   ]
  },
  {
   "cell_type": "code",
   "execution_count": 38,
   "metadata": {
    "ExecuteTime": {
     "end_time": "2019-04-08T08:04:00.780966Z",
     "start_time": "2019-04-08T08:04:00.761815Z"
    }
   },
   "outputs": [
    {
     "data": {
      "text/plain": [
       "28.0"
      ]
     },
     "execution_count": 38,
     "metadata": {},
     "output_type": "execute_result"
    }
   ],
   "source": [
    "np.sqrt(784)"
   ]
  },
  {
   "cell_type": "markdown",
   "metadata": {},
   "source": [
    "It seems that every image is a square of size 28x28."
   ]
  },
  {
   "cell_type": "code",
   "execution_count": 81,
   "metadata": {
    "ExecuteTime": {
     "end_time": "2019-04-08T08:45:48.583952Z",
     "start_time": "2019-04-08T08:45:48.244631Z"
    }
   },
   "outputs": [
    {
     "name": "stdout",
     "output_type": "stream",
     "text": [
      "(28, 28)\n"
     ]
    },
    {
     "data": {
      "text/plain": [
       "<matplotlib.image.AxesImage at 0x7f3b6de978d0>"
      ]
     },
     "execution_count": 81,
     "metadata": {},
     "output_type": "execute_result"
    },
    {
     "data": {
      "image/png": "[encoded data removed]",
      "text/plain": [
       "<Figure size 432x288 with 1 Axes>"
      ]
     },
     "metadata": {
      "needs_background": "light"
     },
     "output_type": "display_data"
    }
   ],
   "source": [
    "img = images[0].reshape(28, 28)\n",
    "print(img.shape)\n",
    "img = PIL.Image.fromarray(img, mode='RGB')\n",
    "plt.imshow(img)"
   ]
  },
  {
   "cell_type": "code",
   "execution_count": 69,
   "metadata": {
    "ExecuteTime": {
     "end_time": "2019-04-08T08:36:42.074721Z",
     "start_time": "2019-04-08T08:36:41.794728Z"
    }
   },
   "outputs": [
    {
     "name": "stdout",
     "output_type": "stream",
     "text": [
      "(28, 28)\n"
     ]
    },
    {
     "data": {
      "text/plain": [
       "<matplotlib.image.AxesImage at 0x7f3b7492e2e8>"
      ]
     },
     "execution_count": 69,
     "metadata": {},
     "output_type": "execute_result"
    },
    {
     "data": {
      "image/png": "[encoded data removed]",
      "text/plain": [
       "<Figure size 432x288 with 1 Axes>"
      ]
     },
     "metadata": {
      "needs_background": "light"
     },
     "output_type": "display_data"
    }
   ],
   "source": [
    "img = images[4000].reshape(28, 28)\n",
    "print(img.shape)\n",
    "img = PIL.Image.fromarray(img, mode='L')\n",
    "plt.imshow(img)"
   ]
  },
  {
   "cell_type": "code",
   "execution_count": null,
   "metadata": {},
   "outputs": [],
   "source": []
  },
  {
   "cell_type": "code",
   "execution_count": 93,
   "metadata": {
    "ExecuteTime": {
     "end_time": "2019-04-08T08:48:00.954912Z",
     "start_time": "2019-04-08T08:48:00.779783Z"
    }
   },
   "outputs": [
    {
     "data": {
      "text/plain": [
       "<matplotlib.image.AxesImage at 0x7f3b6d917160>"
      ]
     },
     "execution_count": 93,
     "metadata": {},
     "output_type": "execute_result"
    },
    {
     "data": {
      "image/png": "[encoded data removed]",
      "text/plain": [
       "<Figure size 432x288 with 1 Axes>"
      ]
     },
     "metadata": {
      "needs_background": "light"
     },
     "output_type": "display_data"
    }
   ],
   "source": [
    "plt.imshow(images[0].reshape(1, 28, 28).squeeze(), cmap='Greys_r')"
   ]
  },
  {
   "cell_type": "code",
   "execution_count": 102,
   "metadata": {
    "ExecuteTime": {
     "end_time": "2019-04-08T08:49:57.390018Z",
     "start_time": "2019-04-08T08:49:57.176324Z"
    }
   },
   "outputs": [
    {
     "data": {
      "text/plain": [
       "<matplotlib.image.AxesImage at 0x7f3b6d6155c0>"
      ]
     },
     "execution_count": 102,
     "metadata": {},
     "output_type": "execute_result"
    },
    {
     "data": {
      "image/png": "[encoded data removed]",
      "text/plain": [
       "<Figure size 432x288 with 1 Axes>"
      ]
     },
     "metadata": {
      "needs_background": "light"
     },
     "output_type": "display_data"
    }
   ],
   "source": [
    "plt.imshow(images[2000].reshape(28, 28), cmap='Greys_r')"
   ]
  },
  {
   "cell_type": "code",
   "execution_count": 95,
   "metadata": {
    "ExecuteTime": {
     "end_time": "2019-04-08T08:48:53.370355Z",
     "start_time": "2019-04-08T08:48:53.087486Z"
    }
   },
   "outputs": [
    {
     "data": {
      "text/plain": [
       "<matplotlib.image.AxesImage at 0x7f3b6d847320>"
      ]
     },
     "execution_count": 95,
     "metadata": {},
     "output_type": "execute_result"
    },
    {
     "data": {
      "image/png": "[encoded data removed]",
      "text/plain": [
       "<Figure size 432x288 with 1 Axes>"
      ]
     },
     "metadata": {
      "needs_background": "light"
     },
     "output_type": "display_data"
    }
   ],
   "source": [
    "plt.imshow(images[4000].reshape(1, 28, 28).squeeze(), cmap='Greys_r')"
   ]
  },
  {
   "cell_type": "code",
   "execution_count": 96,
   "metadata": {
    "ExecuteTime": {
     "end_time": "2019-04-08T08:49:04.272597Z",
     "start_time": "2019-04-08T08:49:03.903171Z"
    }
   },
   "outputs": [
    {
     "data": {
      "text/plain": [
       "<matplotlib.image.AxesImage at 0x7f3b6d81e400>"
      ]
     },
     "execution_count": 96,
     "metadata": {},
     "output_type": "execute_result"
    },
    {
     "data": {
      "image/png": "[encoded data removed]",
      "text/plain": [
       "<Figure size 432x288 with 1 Axes>"
      ]
     },
     "metadata": {
      "needs_background": "light"
     },
     "output_type": "display_data"
    }
   ],
   "source": [
    "plt.imshow(images[7999].reshape(1, 28, 28).squeeze(), cmap='Greys_r')"
   ]
  },
  {
   "cell_type": "code",
   "execution_count": null,
   "metadata": {},
   "outputs": [],
   "source": []
  },
  {
   "cell_type": "code",
   "execution_count": 117,
   "metadata": {
    "ExecuteTime": {
     "end_time": "2019-04-08T09:02:40.772702Z",
     "start_time": "2019-04-08T09:02:40.734016Z"
    }
   },
   "outputs": [],
   "source": [
    "images = images.astype(np.float32)"
   ]
  },
  {
   "cell_type": "code",
   "execution_count": 118,
   "metadata": {
    "ExecuteTime": {
     "end_time": "2019-04-08T09:02:42.148322Z",
     "start_time": "2019-04-08T09:02:41.923584Z"
    }
   },
   "outputs": [],
   "source": [
    "tensor_X = torch.stack([torch.from_numpy(np.array(i)) for i in images])\n",
    "tensor_y = torch.stack([torch.from_numpy(np.array(i)) for i in labels])"
   ]
  },
  {
   "cell_type": "code",
   "execution_count": 119,
   "metadata": {
    "ExecuteTime": {
     "end_time": "2019-04-08T09:02:42.890043Z",
     "start_time": "2019-04-08T09:02:42.868458Z"
    }
   },
   "outputs": [
    {
     "data": {
      "text/plain": [
       "(torch.float32, torch.int64)"
      ]
     },
     "execution_count": 119,
     "metadata": {},
     "output_type": "execute_result"
    }
   ],
   "source": [
    "tensor_X.dtype, tensor_y.dtype"
   ]
  },
  {
   "cell_type": "code",
   "execution_count": 120,
   "metadata": {
    "ExecuteTime": {
     "end_time": "2019-04-08T09:02:48.759338Z",
     "start_time": "2019-04-08T09:02:48.495625Z"
    }
   },
   "outputs": [
    {
     "data": {
      "text/plain": [
       "<matplotlib.image.AxesImage at 0x7f3b689e60f0>"
      ]
     },
     "execution_count": 120,
     "metadata": {},
     "output_type": "execute_result"
    },
    {
     "data": {
      "image/png": "[encoded data removed]",
      "text/plain": [
       "<Figure size 432x288 with 1 Axes>"
      ]
     },
     "metadata": {
      "needs_background": "light"
     },
     "output_type": "display_data"
    }
   ],
   "source": [
    "plt.imshow(tensor_X[0].reshape(1, 28, 28).squeeze(), cmap='Greys_r')"
   ]
  },
  {
   "cell_type": "code",
   "execution_count": null,
   "metadata": {},
   "outputs": [],
   "source": []
  },
  {
   "cell_type": "code",
   "execution_count": 121,
   "metadata": {
    "ExecuteTime": {
     "end_time": "2019-04-08T09:03:15.495842Z",
     "start_time": "2019-04-08T09:03:15.425230Z"
    }
   },
   "outputs": [
    {
     "ename": "TypeError",
     "evalue": "take(): argument 'index' (position 1) must be Tensor, not numpy.ndarray",
     "output_type": "error",
     "traceback": [
      "\u001b[0;31m---------------------------------------------------------------------------\u001b[0m",
      "\u001b[0;31mTypeError\u001b[0m                                 Traceback (most recent call last)",
      "\u001b[0;32m<ipython-input-121-9b2b4700711f>\u001b[0m in \u001b[0;36m<module>\u001b[0;34m\u001b[0m\n\u001b[0;32m----> 1\u001b[0;31m \u001b[0mX_train\u001b[0m\u001b[0;34m,\u001b[0m \u001b[0mX_test\u001b[0m\u001b[0;34m,\u001b[0m \u001b[0my_train\u001b[0m\u001b[0;34m,\u001b[0m \u001b[0my_test\u001b[0m \u001b[0;34m=\u001b[0m \u001b[0mtrain_test_split\u001b[0m\u001b[0;34m(\u001b[0m\u001b[0mtensor_X\u001b[0m\u001b[0;34m,\u001b[0m \u001b[0mtensor_y\u001b[0m\u001b[0;34m,\u001b[0m \u001b[0mtest_size\u001b[0m\u001b[0;34m=\u001b[0m\u001b[0;36m0.2\u001b[0m\u001b[0;34m,\u001b[0m \u001b[0mrandom_state\u001b[0m\u001b[0;34m=\u001b[0m\u001b[0;36m0\u001b[0m\u001b[0;34m)\u001b[0m\u001b[0;34m\u001b[0m\u001b[0;34m\u001b[0m\u001b[0m\n\u001b[0m",
      "\u001b[0;32m~/anaconda3/lib/python3.6/site-packages/sklearn/model_selection/_split.py\u001b[0m in \u001b[0;36mtrain_test_split\u001b[0;34m(*arrays, **options)\u001b[0m\n\u001b[1;32m   2100\u001b[0m \u001b[0;34m\u001b[0m\u001b[0m\n\u001b[1;32m   2101\u001b[0m     return list(chain.from_iterable((safe_indexing(a, train),\n\u001b[0;32m-> 2102\u001b[0;31m                                      safe_indexing(a, test)) for a in arrays))\n\u001b[0m\u001b[1;32m   2103\u001b[0m \u001b[0;34m\u001b[0m\u001b[0m\n\u001b[1;32m   2104\u001b[0m \u001b[0;34m\u001b[0m\u001b[0m\n",
      "\u001b[0;32m~/anaconda3/lib/python3.6/site-packages/sklearn/model_selection/_split.py\u001b[0m in \u001b[0;36m<genexpr>\u001b[0;34m(.0)\u001b[0m\n\u001b[1;32m   2100\u001b[0m \u001b[0;34m\u001b[0m\u001b[0m\n\u001b[1;32m   2101\u001b[0m     return list(chain.from_iterable((safe_indexing(a, train),\n\u001b[0;32m-> 2102\u001b[0;31m                                      safe_indexing(a, test)) for a in arrays))\n\u001b[0m\u001b[1;32m   2103\u001b[0m \u001b[0;34m\u001b[0m\u001b[0m\n\u001b[1;32m   2104\u001b[0m \u001b[0;34m\u001b[0m\u001b[0m\n",
      "\u001b[0;32m~/anaconda3/lib/python3.6/site-packages/sklearn/utils/__init__.py\u001b[0m in \u001b[0;36msafe_indexing\u001b[0;34m(X, indices)\u001b[0m\n\u001b[1;32m    183\u001b[0m                                    indices.dtype.kind == 'i'):\n\u001b[1;32m    184\u001b[0m             \u001b[0;31m# This is often substantially faster than X[indices]\u001b[0m\u001b[0;34m\u001b[0m\u001b[0;34m\u001b[0m\u001b[0;34m\u001b[0m\u001b[0m\n\u001b[0;32m--> 185\u001b[0;31m             \u001b[0;32mreturn\u001b[0m \u001b[0mX\u001b[0m\u001b[0;34m.\u001b[0m\u001b[0mtake\u001b[0m\u001b[0;34m(\u001b[0m\u001b[0mindices\u001b[0m\u001b[0;34m,\u001b[0m \u001b[0maxis\u001b[0m\u001b[0;34m=\u001b[0m\u001b[0;36m0\u001b[0m\u001b[0;34m)\u001b[0m\u001b[0;34m\u001b[0m\u001b[0;34m\u001b[0m\u001b[0m\n\u001b[0m\u001b[1;32m    186\u001b[0m         \u001b[0;32melse\u001b[0m\u001b[0;34m:\u001b[0m\u001b[0;34m\u001b[0m\u001b[0;34m\u001b[0m\u001b[0m\n\u001b[1;32m    187\u001b[0m             \u001b[0;32mreturn\u001b[0m \u001b[0mX\u001b[0m\u001b[0;34m[\u001b[0m\u001b[0mindices\u001b[0m\u001b[0;34m]\u001b[0m\u001b[0;34m\u001b[0m\u001b[0;34m\u001b[0m\u001b[0m\n",
      "\u001b[0;31mTypeError\u001b[0m: take(): argument 'index' (position 1) must be Tensor, not numpy.ndarray"
     ]
    }
   ],
   "source": [
    "X_train, X_test, y_train, y_test = train_test_split(tensor_X, tensor_y, test_size=0.2, random_state=0)"
   ]
  },
  {
   "cell_type": "markdown",
   "metadata": {},
   "source": [
    "---\n",
    "Not working as sklearn `train_test_split` doesn't take tensor as input, but numpy array.\n",
    "\n",
    "**Solution:** first split data then convert into tensor"
   ]
  },
  {
   "cell_type": "code",
   "execution_count": 147,
   "metadata": {
    "ExecuteTime": {
     "end_time": "2019-04-08T09:17:13.113668Z",
     "start_time": "2019-04-08T09:17:13.061411Z"
    }
   },
   "outputs": [],
   "source": [
    "X_train, X_test, y_train, y_test = train_test_split(images, labels, test_size=0.2, random_state=0)"
   ]
  },
  {
   "cell_type": "code",
   "execution_count": 148,
   "metadata": {
    "ExecuteTime": {
     "end_time": "2019-04-08T09:17:13.377828Z",
     "start_time": "2019-04-08T09:17:13.209183Z"
    }
   },
   "outputs": [],
   "source": [
    "X_train = torch.stack([torch.from_numpy(np.array(i)) for i in X_train])\n",
    "X_test = torch.stack([torch.from_numpy(np.array(i)) for i in X_test])\n",
    "y_train = torch.stack([torch.from_numpy(np.array(i)) for i in y_train])\n",
    "y_test = torch.stack([torch.from_numpy(np.array(i)) for i in y_test])"
   ]
  },
  {
   "cell_type": "code",
   "execution_count": 149,
   "metadata": {
    "ExecuteTime": {
     "end_time": "2019-04-08T09:17:13.639154Z",
     "start_time": "2019-04-08T09:17:13.627966Z"
    }
   },
   "outputs": [],
   "source": [
    "X_train = X_train.reshape((-1, 1, 28, 28))\n",
    "X_test = X_test.reshape((-1, 1, 28, 28))"
   ]
  },
  {
   "cell_type": "code",
   "execution_count": 154,
   "metadata": {
    "ExecuteTime": {
     "end_time": "2019-04-08T09:18:19.085245Z",
     "start_time": "2019-04-08T09:18:19.050264Z"
    }
   },
   "outputs": [],
   "source": [
    "train_dataset = torch.utils.data.TensorDataset(X_train, y_train)\n",
    "train_loader = torch.utils.data.DataLoader(train_dataset, batch_size=64)\n",
    "\n",
    "test_dataset = torch.utils.data.TensorDataset(X_test, y_test)\n",
    "test_loader = torch.utils.data.DataLoader(test_dataset, batch_size=64)"
   ]
  },
  {
   "cell_type": "code",
   "execution_count": 155,
   "metadata": {
    "ExecuteTime": {
     "end_time": "2019-04-08T09:18:19.922058Z",
     "start_time": "2019-04-08T09:18:19.906867Z"
    }
   },
   "outputs": [
    {
     "data": {
      "text/plain": [
       "100"
      ]
     },
     "execution_count": 155,
     "metadata": {},
     "output_type": "execute_result"
    }
   ],
   "source": [
    "len(train_loader)"
   ]
  },
  {
   "cell_type": "code",
   "execution_count": 156,
   "metadata": {
    "ExecuteTime": {
     "end_time": "2019-04-08T09:18:21.188790Z",
     "start_time": "2019-04-08T09:18:21.173001Z"
    }
   },
   "outputs": [],
   "source": [
    "device = torch.device(\"cuda:0\" if torch.cuda.is_available() else \"cpu\")"
   ]
  },
  {
   "cell_type": "code",
   "execution_count": 157,
   "metadata": {
    "ExecuteTime": {
     "end_time": "2019-04-08T09:18:21.437122Z",
     "start_time": "2019-04-08T09:18:21.425618Z"
    },
    "scrolled": true
   },
   "outputs": [
    {
     "name": "stdout",
     "output_type": "stream",
     "text": [
      "<class 'torch.Tensor'>\n",
      "torch.Size([64, 1, 28, 28])\n",
      "torch.Size([64])\n"
     ]
    }
   ],
   "source": [
    "dataiter = iter(train_loader)\n",
    "tt, ll = dataiter.next()\n",
    "print(type(ll))\n",
    "print(tt.shape)\n",
    "print(ll.shape)"
   ]
  },
  {
   "cell_type": "markdown",
   "metadata": {},
   "source": [
    "Now, everything seems perfect!  \n",
    "Ready to move on..."
   ]
  },
  {
   "cell_type": "markdown",
   "metadata": {},
   "source": [
    "# Model"
   ]
  },
  {
   "cell_type": "code",
   "execution_count": null,
   "metadata": {},
   "outputs": [],
   "source": []
  },
  {
   "cell_type": "code",
   "execution_count": null,
   "metadata": {},
   "outputs": [],
   "source": []
  },
  {
   "cell_type": "code",
   "execution_count": null,
   "metadata": {},
   "outputs": [],
   "source": []
  },
  {
   "cell_type": "markdown",
   "metadata": {},
   "source": [
    "# Training"
   ]
  },
  {
   "cell_type": "code",
   "execution_count": null,
   "metadata": {},
   "outputs": [],
   "source": []
  }
 ],
 "metadata": {
  "kernelspec": {
   "display_name": "Python 3",
   "language": "python",
   "name": "python3"
  },
  "language_info": {
   "codemirror_mode": {
    "name": "ipython",
    "version": 3
   },
   "file_extension": ".py",
   "mimetype": "text/x-python",
   "name": "python",
   "nbconvert_exporter": "python",
   "pygments_lexer": "ipython3",
   "version": "3.6.8"
  },
  "varInspector": {
   "cols": {
    "lenName": 16,
    "lenType": 16,
    "lenVar": 40
   },
   "kernels_config": {
    "python": {
     "delete_cmd_postfix": "",
     "delete_cmd_prefix": "del ",
     "library": "var_list.py",
     "varRefreshCmd": "print(var_dic_list())"
    },
    "r": {
     "delete_cmd_postfix": ") ",
     "delete_cmd_prefix": "rm(",
     "library": "var_list.r",
     "varRefreshCmd": "cat(var_dic_list()) "
    }
   },
   "types_to_exclude": [
    "module",
    "function",
    "builtin_function_or_method",
    "instance",
    "_Feature"
   ],
   "window_display": false
  }
 },
 "nbformat": 4,
 "nbformat_minor": 2
}
