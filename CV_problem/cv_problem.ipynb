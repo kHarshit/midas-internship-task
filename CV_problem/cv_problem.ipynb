{
 "cells": [
  {
   "cell_type": "code",
   "execution_count": 136,
   "metadata": {
    "ExecuteTime": {
     "end_time": "2019-04-08T12:08:24.562349Z",
     "start_time": "2019-04-08T12:08:24.494681Z"
    }
   },
   "outputs": [],
   "source": [
    "from tqdm import tqdm\n",
    "import csv\n",
    "import pickle\n",
    "import PIL.Image\n",
    "import numpy as np\n",
    "import pandas as pd\n",
    "import matplotlib.pyplot as plt\n",
    "from sklearn.model_selection import train_test_split\n",
    "import torch\n",
    "import torch.nn as nn\n",
    "import torch.nn.functional as F\n",
    "import torch.optim as optim\n",
    "from torch.utils.data import Dataset, DataLoader\n",
    "from torch.optim import lr_scheduler\n",
    "from torchvision import transforms, datasets\n",
    "\n",
    "%matplotlib inline"
   ]
  },
  {
   "cell_type": "markdown",
   "metadata": {},
   "source": [
    "# Table of Contents\n",
    "\n",
    "* [Preprocessing](#Preprocessing)\n",
    "* [Model](#Model)\n",
    "* [Training](#Training)\n",
    "* [Testing](#Testing)"
   ]
  },
  {
   "cell_type": "markdown",
   "metadata": {},
   "source": [
    "# Preprocessing"
   ]
  },
  {
   "cell_type": "code",
   "execution_count": 2,
   "metadata": {
    "ExecuteTime": {
     "end_time": "2019-04-08T10:58:00.743334Z",
     "start_time": "2019-04-08T10:57:59.956732Z"
    }
   },
   "outputs": [
    {
     "data": {
      "text/plain": [
       "((8000, 784), (8000,))"
      ]
     },
     "execution_count": 2,
     "metadata": {},
     "output_type": "execute_result"
    }
   ],
   "source": [
    "# load training images\n",
    "with open('./Vision_task_dataset_public/train_image.pkl', 'rb') as f:\n",
    "    images = pickle.load(f)\n",
    "images = np.array(images)\n",
    "\n",
    "# load labels\n",
    "with open('./Vision_task_dataset_public/train_label.pkl', 'rb') as f:\n",
    "    labels = pickle.load(f)\n",
    "labels = np.array(labels)\n",
    "\n",
    "images.shape, labels.shape"
   ]
  },
  {
   "cell_type": "markdown",
   "metadata": {},
   "source": [
    "### Labels: 4"
   ]
  },
  {
   "cell_type": "code",
   "execution_count": 3,
   "metadata": {
    "ExecuteTime": {
     "end_time": "2019-04-08T10:58:09.564080Z",
     "start_time": "2019-04-08T10:58:09.557603Z"
    }
   },
   "outputs": [
    {
     "data": {
      "text/plain": [
       "array([0, 2, 3, 6])"
      ]
     },
     "execution_count": 3,
     "metadata": {},
     "output_type": "execute_result"
    }
   ],
   "source": [
    "# check labels\n",
    "np.unique(labels)"
   ]
  },
  {
   "cell_type": "code",
   "execution_count": 4,
   "metadata": {
    "ExecuteTime": {
     "end_time": "2019-04-08T10:58:30.327382Z",
     "start_time": "2019-04-08T10:58:30.321455Z"
    }
   },
   "outputs": [
    {
     "data": {
      "text/plain": [
       "(0, 2, 3, 6)"
      ]
     },
     "execution_count": 4,
     "metadata": {},
     "output_type": "execute_result"
    }
   ],
   "source": [
    "# test labels at regular interval\n",
    "labels[0], labels[2000], labels[4000], labels[7999]"
   ]
  },
  {
   "cell_type": "markdown",
   "metadata": {},
   "source": [
    "Looks like data's sequentially arranged as per labels!"
   ]
  },
  {
   "cell_type": "markdown",
   "metadata": {},
   "source": [
    "**Convert labels into 0, 1, 2 and 3 respectively as PyTorch expects them in this format.**"
   ]
  },
  {
   "cell_type": "code",
   "execution_count": 7,
   "metadata": {
    "ExecuteTime": {
     "end_time": "2019-04-08T11:00:24.764355Z",
     "start_time": "2019-04-08T11:00:24.759740Z"
    }
   },
   "outputs": [],
   "source": [
    "labels[labels == 2] = 1\n",
    "labels[labels == 3] = 2\n",
    "labels[labels == 6] = 3"
   ]
  },
  {
   "cell_type": "code",
   "execution_count": 8,
   "metadata": {
    "ExecuteTime": {
     "end_time": "2019-04-08T11:00:44.142482Z",
     "start_time": "2019-04-08T11:00:44.131796Z"
    }
   },
   "outputs": [
    {
     "name": "stdout",
     "output_type": "stream",
     "text": [
      "[0 1 2 3]\n"
     ]
    },
    {
     "data": {
      "text/plain": [
       "(0, 1, 2, 3)"
      ]
     },
     "execution_count": 8,
     "metadata": {},
     "output_type": "execute_result"
    }
   ],
   "source": [
    "# check labels\n",
    "print(np.unique(labels))\n",
    "labels[0], labels[2000], labels[4000], labels[7999]"
   ]
  },
  {
   "cell_type": "markdown",
   "metadata": {},
   "source": [
    "### Images"
   ]
  },
  {
   "cell_type": "code",
   "execution_count": 9,
   "metadata": {
    "ExecuteTime": {
     "end_time": "2019-04-08T11:02:01.716691Z",
     "start_time": "2019-04-08T11:02:01.712322Z"
    }
   },
   "outputs": [
    {
     "data": {
      "text/plain": [
       "(784,)"
      ]
     },
     "execution_count": 9,
     "metadata": {},
     "output_type": "execute_result"
    }
   ],
   "source": [
    "images[0].shape"
   ]
  },
  {
   "cell_type": "code",
   "execution_count": 10,
   "metadata": {
    "ExecuteTime": {
     "end_time": "2019-04-08T11:02:05.356703Z",
     "start_time": "2019-04-08T11:02:05.350776Z"
    }
   },
   "outputs": [
    {
     "data": {
      "text/plain": [
       "28.0"
      ]
     },
     "execution_count": 10,
     "metadata": {},
     "output_type": "execute_result"
    }
   ],
   "source": [
    "np.sqrt(784)"
   ]
  },
  {
   "cell_type": "markdown",
   "metadata": {},
   "source": [
    "It seems that every image is a square of size 28x28."
   ]
  },
  {
   "cell_type": "code",
   "execution_count": 22,
   "metadata": {
    "ExecuteTime": {
     "end_time": "2019-04-08T11:07:11.319287Z",
     "start_time": "2019-04-08T11:07:11.204567Z"
    }
   },
   "outputs": [
    {
     "name": "stdout",
     "output_type": "stream",
     "text": [
      "(28, 28)\n"
     ]
    },
    {
     "data": {
      "text/plain": [
       "<matplotlib.image.AxesImage at 0x7f24acfbe8d0>"
      ]
     },
     "execution_count": 22,
     "metadata": {},
     "output_type": "execute_result"
    },
    {
     "data": {
      "image/png": "[encoded data removed]",
      "text/plain": [
       "<Figure size 432x288 with 1 Axes>"
      ]
     },
     "metadata": {
      "needs_background": "light"
     },
     "output_type": "display_data"
    }
   ],
   "source": [
    "img = images[0].reshape(28, 28)\n",
    "print(img.shape)\n",
    "img = PIL.Image.fromarray(img, mode='RGB')\n",
    "plt.imshow(img)"
   ]
  },
  {
   "cell_type": "code",
   "execution_count": 12,
   "metadata": {
    "ExecuteTime": {
     "end_time": "2019-04-08T11:02:09.218596Z",
     "start_time": "2019-04-08T11:02:09.103959Z"
    }
   },
   "outputs": [
    {
     "name": "stdout",
     "output_type": "stream",
     "text": [
      "(28, 28)\n"
     ]
    },
    {
     "data": {
      "text/plain": [
       "<matplotlib.image.AxesImage at 0x7f24af059908>"
      ]
     },
     "execution_count": 12,
     "metadata": {},
     "output_type": "execute_result"
    },
    {
     "data": {
      "image/png": "[encoded data removed]",
      "text/plain": [
       "<Figure size 432x288 with 1 Axes>"
      ]
     },
     "metadata": {
      "needs_background": "light"
     },
     "output_type": "display_data"
    }
   ],
   "source": [
    "img = images[4000].reshape(28, 28)\n",
    "print(img.shape)\n",
    "img = PIL.Image.fromarray(img, mode='L')\n",
    "plt.imshow(img)"
   ]
  },
  {
   "cell_type": "markdown",
   "metadata": {},
   "source": [
    "<div style=\"color:red\">Looks something off!</div>  \n",
    "Trying in a different way..."
   ]
  },
  {
   "cell_type": "code",
   "execution_count": 13,
   "metadata": {
    "ExecuteTime": {
     "end_time": "2019-04-08T11:02:11.620642Z",
     "start_time": "2019-04-08T11:02:11.389204Z"
    },
    "scrolled": true
   },
   "outputs": [
    {
     "data": {
      "text/plain": [
       "<matplotlib.image.AxesImage at 0x7f24b2cd77b8>"
      ]
     },
     "execution_count": 13,
     "metadata": {},
     "output_type": "execute_result"
    },
    {
     "data": {
      "image/png": "[encoded data removed]",
      "text/plain": [
       "<Figure size 432x288 with 1 Axes>"
      ]
     },
     "metadata": {
      "needs_background": "light"
     },
     "output_type": "display_data"
    }
   ],
   "source": [
    "plt.imshow(images[0].reshape(1, 28, 28).squeeze(), cmap='Greys_r')"
   ]
  },
  {
   "cell_type": "code",
   "execution_count": 14,
   "metadata": {
    "ExecuteTime": {
     "end_time": "2019-04-08T11:02:39.973928Z",
     "start_time": "2019-04-08T11:02:39.846334Z"
    }
   },
   "outputs": [
    {
     "data": {
      "text/plain": [
       "<matplotlib.image.AxesImage at 0x7f24afb347b8>"
      ]
     },
     "execution_count": 14,
     "metadata": {},
     "output_type": "execute_result"
    },
    {
     "data": {
      "image/png": "[encoded data removed]",
      "text/plain": [
       "<Figure size 432x288 with 1 Axes>"
      ]
     },
     "metadata": {
      "needs_background": "light"
     },
     "output_type": "display_data"
    }
   ],
   "source": [
    "plt.imshow(images[2000].reshape(28, 28), cmap='Greys_r')"
   ]
  },
  {
   "cell_type": "code",
   "execution_count": 15,
   "metadata": {
    "ExecuteTime": {
     "end_time": "2019-04-08T11:02:41.993671Z",
     "start_time": "2019-04-08T11:02:41.877335Z"
    }
   },
   "outputs": [
    {
     "data": {
      "text/plain": [
       "<matplotlib.image.AxesImage at 0x7f24afaf6160>"
      ]
     },
     "execution_count": 15,
     "metadata": {},
     "output_type": "execute_result"
    },
    {
     "data": {
      "image/png": "[encoded data removed]",
      "text/plain": [
       "<Figure size 432x288 with 1 Axes>"
      ]
     },
     "metadata": {
      "needs_background": "light"
     },
     "output_type": "display_data"
    }
   ],
   "source": [
    "plt.imshow(images[4000].reshape(28, 28), cmap='Greys_r')"
   ]
  },
  {
   "cell_type": "code",
   "execution_count": 16,
   "metadata": {
    "ExecuteTime": {
     "end_time": "2019-04-08T11:02:43.789023Z",
     "start_time": "2019-04-08T11:02:43.663255Z"
    }
   },
   "outputs": [
    {
     "data": {
      "text/plain": [
       "<matplotlib.image.AxesImage at 0x7f24afa54a20>"
      ]
     },
     "execution_count": 16,
     "metadata": {},
     "output_type": "execute_result"
    },
    {
     "data": {
      "image/png": "[encoded data removed]",
      "text/plain": [
       "<Figure size 432x288 with 1 Axes>"
      ]
     },
     "metadata": {
      "needs_background": "light"
     },
     "output_type": "display_data"
    }
   ],
   "source": [
    "plt.imshow(images[7999].reshape(28, 28), cmap='Greys_r')"
   ]
  },
  {
   "cell_type": "markdown",
   "metadata": {},
   "source": [
    "### Create PyTorch datasets and DataLoaders"
   ]
  },
  {
   "cell_type": "markdown",
   "metadata": {},
   "source": [
    "First split data using  sklearn `train_test_split` then convert into tensor"
   ]
  },
  {
   "cell_type": "code",
   "execution_count": 19,
   "metadata": {
    "ExecuteTime": {
     "end_time": "2019-04-08T11:05:59.610875Z",
     "start_time": "2019-04-08T11:05:59.574508Z"
    }
   },
   "outputs": [],
   "source": [
    "# randomly split the data\n",
    "X_train, X_test, y_train, y_test = train_test_split(images, labels, test_size=0.2, random_state=0)"
   ]
  },
  {
   "cell_type": "code",
   "execution_count": 20,
   "metadata": {
    "ExecuteTime": {
     "end_time": "2019-04-08T11:06:35.153796Z",
     "start_time": "2019-04-08T11:06:35.047383Z"
    }
   },
   "outputs": [],
   "source": [
    "# convert into pytorch tensors\n",
    "X_train = torch.stack([torch.from_numpy(np.array(i)) for i in X_train])\n",
    "X_test = torch.stack([torch.from_numpy(np.array(i)) for i in X_test])\n",
    "y_train = torch.stack([torch.from_numpy(np.array(i)) for i in y_train])\n",
    "y_test = torch.stack([torch.from_numpy(np.array(i)) for i in y_test])"
   ]
  },
  {
   "cell_type": "code",
   "execution_count": 35,
   "metadata": {
    "ExecuteTime": {
     "end_time": "2019-04-08T11:20:53.716123Z",
     "start_time": "2019-04-08T11:20:53.694082Z"
    }
   },
   "outputs": [],
   "source": [
    "# reshape into [C, H, W]\n",
    "X_train = X_train.reshape((-1, 1, 28, 28)).float()\n",
    "X_test = X_test.reshape((-1, 1, 28, 28)).float()"
   ]
  },
  {
   "cell_type": "code",
   "execution_count": 36,
   "metadata": {
    "ExecuteTime": {
     "end_time": "2019-04-08T11:20:54.329634Z",
     "start_time": "2019-04-08T11:20:54.325500Z"
    }
   },
   "outputs": [],
   "source": [
    "# create dataset and dataloaders\n",
    "train_dataset = torch.utils.data.TensorDataset(X_train, y_train)\n",
    "train_loader = torch.utils.data.DataLoader(train_dataset, batch_size=64)\n",
    "\n",
    "valid_dataset = torch.utils.data.TensorDataset(X_test, y_test)\n",
    "valid_loader = torch.utils.data.DataLoader(valid_dataset, batch_size=64)"
   ]
  },
  {
   "cell_type": "code",
   "execution_count": 37,
   "metadata": {
    "ExecuteTime": {
     "end_time": "2019-04-08T11:20:55.147167Z",
     "start_time": "2019-04-08T11:20:55.142142Z"
    }
   },
   "outputs": [
    {
     "data": {
      "text/plain": [
       "100"
      ]
     },
     "execution_count": 37,
     "metadata": {},
     "output_type": "execute_result"
    }
   ],
   "source": [
    "len(train_loader)"
   ]
  },
  {
   "cell_type": "code",
   "execution_count": 38,
   "metadata": {
    "ExecuteTime": {
     "end_time": "2019-04-08T11:20:56.376011Z",
     "start_time": "2019-04-08T11:20:56.372946Z"
    }
   },
   "outputs": [],
   "source": [
    "# for GPU\n",
    "device = torch.device(\"cuda:0\" if torch.cuda.is_available() else \"cpu\")"
   ]
  },
  {
   "cell_type": "code",
   "execution_count": 39,
   "metadata": {
    "ExecuteTime": {
     "end_time": "2019-04-08T11:20:56.543037Z",
     "start_time": "2019-04-08T11:20:56.539006Z"
    },
    "scrolled": true
   },
   "outputs": [
    {
     "name": "stdout",
     "output_type": "stream",
     "text": [
      "<class 'torch.Tensor'>\n",
      "torch.Size([64, 1, 28, 28])\n",
      "torch.Size([64])\n"
     ]
    }
   ],
   "source": [
    "dataiter = iter(train_loader)\n",
    "tt, ll = dataiter.next()\n",
    "print(type(ll))\n",
    "print(tt.shape)\n",
    "print(ll.shape)"
   ]
  },
  {
   "cell_type": "markdown",
   "metadata": {},
   "source": [
    "Now, everything seems perfect!  \n",
    "<div style=\"color:green\">Ready to move on...</div>"
   ]
  },
  {
   "cell_type": "markdown",
   "metadata": {},
   "source": [
    "# Model"
   ]
  },
  {
   "cell_type": "code",
   "execution_count": 40,
   "metadata": {
    "ExecuteTime": {
     "end_time": "2019-04-08T11:21:00.924205Z",
     "start_time": "2019-04-08T11:21:00.913558Z"
    }
   },
   "outputs": [],
   "source": [
    "class Classifier(nn.Module):\n",
    "    def __init__(self):\n",
    "        super().__init__()\n",
    "        self.fc1 = nn.Linear(784, 256)\n",
    "        self.fc2 = nn.Linear(256, 128)\n",
    "        self.fc3 = nn.Linear(128, 64)\n",
    "        self.fc4 = nn.Linear(64, 4)\n",
    "\n",
    "        # dropout 0.2 drop probability\n",
    "        self.dropout = nn.Dropout(p=0.2)\n",
    "\n",
    "    def forward(self, x):\n",
    "        # flatten tensor\n",
    "        x = x.view(x.shape[0], -1)\n",
    "\n",
    "        # forward pass\n",
    "        x = self.dropout(F.relu(self.fc1(x)))\n",
    "        x = self.dropout(F.relu(self.fc2(x)))\n",
    "        x = F.relu(self.fc3(x))\n",
    "\n",
    "        # output so no dropout here\n",
    "        x = self.fc4(x)\n",
    "\n",
    "        return x\n"
   ]
  },
  {
   "cell_type": "code",
   "execution_count": 41,
   "metadata": {
    "ExecuteTime": {
     "end_time": "2019-04-08T11:21:01.696644Z",
     "start_time": "2019-04-08T11:21:01.688498Z"
    }
   },
   "outputs": [],
   "source": [
    "model = Classifier()\n",
    "criterion = nn.CrossEntropyLoss()\n",
    "optimizer = optim.Adam(model.parameters(), lr=0.001)\n",
    "\n",
    "epochs = 30\n",
    "steps = 0"
   ]
  },
  {
   "cell_type": "code",
   "execution_count": 42,
   "metadata": {
    "ExecuteTime": {
     "end_time": "2019-04-08T11:21:01.959216Z",
     "start_time": "2019-04-08T11:21:01.954890Z"
    },
    "scrolled": true
   },
   "outputs": [
    {
     "name": "stdout",
     "output_type": "stream",
     "text": [
      "Classifier(\n",
      "  (fc1): Linear(in_features=784, out_features=256, bias=True)\n",
      "  (fc2): Linear(in_features=256, out_features=128, bias=True)\n",
      "  (fc3): Linear(in_features=128, out_features=64, bias=True)\n",
      "  (fc4): Linear(in_features=64, out_features=4, bias=True)\n",
      "  (dropout): Dropout(p=0.2)\n",
      ")\n"
     ]
    }
   ],
   "source": [
    "print(model)"
   ]
  },
  {
   "cell_type": "code",
   "execution_count": 43,
   "metadata": {
    "ExecuteTime": {
     "end_time": "2019-04-08T11:21:02.457328Z",
     "start_time": "2019-04-08T11:21:02.443607Z"
    }
   },
   "outputs": [
    {
     "name": "stdout",
     "output_type": "stream",
     "text": [
      "----------------------------------------------------------------\n",
      "        Layer (type)               Output Shape         Param #\n",
      "================================================================\n",
      "            Linear-1                  [-1, 256]         200,960\n",
      "           Dropout-2                  [-1, 256]               0\n",
      "            Linear-3                  [-1, 128]          32,896\n",
      "           Dropout-4                  [-1, 128]               0\n",
      "            Linear-5                   [-1, 64]           8,256\n",
      "            Linear-6                    [-1, 4]             260\n",
      "================================================================\n",
      "Total params: 242,372\n",
      "Trainable params: 242,372\n",
      "Non-trainable params: 0\n",
      "----------------------------------------------------------------\n",
      "Input size (MB): 0.00\n",
      "Forward/backward pass size (MB): 0.01\n",
      "Params size (MB): 0.92\n",
      "Estimated Total Size (MB): 0.93\n",
      "----------------------------------------------------------------\n"
     ]
    }
   ],
   "source": [
    "from torchsummary import summary\n",
    "summary(model, input_size=(1, 28, 28))"
   ]
  },
  {
   "cell_type": "markdown",
   "metadata": {},
   "source": [
    "# Training"
   ]
  },
  {
   "cell_type": "code",
   "execution_count": 46,
   "metadata": {
    "ExecuteTime": {
     "end_time": "2019-04-08T11:21:56.676796Z",
     "start_time": "2019-04-08T11:21:20.307885Z"
    },
    "scrolled": false
   },
   "outputs": [
    {
     "name": "stdout",
     "output_type": "stream",
     "text": [
      "Epoch: 1/30..  Training Loss: 0.593..  Test Loss: 0.556.. \n",
      "Epoch: 2/30..  Training Loss: 0.566..  Test Loss: 0.571.. \n",
      "Epoch: 3/30..  Training Loss: 0.529..  Test Loss: 0.527.. \n",
      "Epoch: 4/30..  Training Loss: 0.500..  Test Loss: 0.532.. \n",
      "Epoch: 5/30..  Training Loss: 0.513..  Test Loss: 0.507.. \n",
      "Epoch: 6/30..  Training Loss: 0.482..  Test Loss: 0.592.. \n",
      "Epoch: 7/30..  Training Loss: 0.485..  Test Loss: 0.483.. \n",
      "Epoch: 8/30..  Training Loss: 0.472..  Test Loss: 0.507.. \n",
      "Epoch: 9/30..  Training Loss: 0.458..  Test Loss: 0.480.. \n",
      "Epoch: 10/30..  Training Loss: 0.453..  Test Loss: 0.489.. \n",
      "Epoch: 11/30..  Training Loss: 0.442..  Test Loss: 0.480.. \n",
      "Epoch: 12/30..  Training Loss: 0.449..  Test Loss: 0.488.. \n",
      "Epoch: 13/30..  Training Loss: 0.412..  Test Loss: 0.523.. \n",
      "Epoch: 14/30..  Training Loss: 0.421..  Test Loss: 0.500.. \n",
      "Epoch: 15/30..  Training Loss: 0.401..  Test Loss: 0.482.. \n",
      "Epoch: 16/30..  Training Loss: 0.406..  Test Loss: 0.473.. \n",
      "Epoch: 17/30..  Training Loss: 0.405..  Test Loss: 0.456.. \n",
      "Epoch: 18/30..  Training Loss: 0.409..  Test Loss: 0.486.. \n",
      "Epoch: 19/30..  Training Loss: 0.411..  Test Loss: 0.549.. \n",
      "Epoch: 20/30..  Training Loss: 0.402..  Test Loss: 0.490.. \n",
      "Epoch: 21/30..  Training Loss: 0.399..  Test Loss: 0.489.. \n",
      "Epoch: 22/30..  Training Loss: 0.397..  Test Loss: 0.476.. \n",
      "Epoch: 23/30..  Training Loss: 0.396..  Test Loss: 0.466.. \n",
      "Epoch: 24/30..  Training Loss: 0.391..  Test Loss: 0.476.. \n",
      "Epoch: 25/30..  Training Loss: 0.387..  Test Loss: 0.479.. \n",
      "Epoch: 26/30..  Training Loss: 0.385..  Test Loss: 0.498.. \n",
      "Epoch: 27/30..  Training Loss: 0.388..  Test Loss: 0.486.. \n",
      "Epoch: 28/30..  Training Loss: 0.378..  Test Loss: 0.475.. \n",
      "Epoch: 29/30..  Training Loss: 0.377..  Test Loss: 0.454.. \n",
      "Epoch: 30/30..  Training Loss: 0.370..  Test Loss: 0.487.. \n"
     ]
    }
   ],
   "source": [
    "train_losses, test_losses = [], []\n",
    "for e in range(epochs):\n",
    "    running_loss = 0\n",
    "    for images, labels in train_loader:\n",
    "        \n",
    "        optimizer.zero_grad()\n",
    "        \n",
    "        outputs = model(images)\n",
    "        _, preds = torch.max(outputs, 1)\n",
    "        loss = criterion(outputs, labels)\n",
    "        loss.backward()\n",
    "        optimizer.step()\n",
    "        \n",
    "        running_loss += loss.item()\n",
    "        \n",
    "    else:\n",
    "        valid_loss = 0\n",
    "        accuracy = 0\n",
    "        \n",
    "        # Turn off gradients for validation, saves memory and computations\n",
    "        with torch.no_grad():\n",
    "            # set model to evaluation mode\n",
    "            model.eval()\n",
    "\n",
    "            for images, labels in valid_loader:\n",
    "                outputs = model(images)\n",
    "                valid_loss += criterion(outputs, labels)\n",
    "                \n",
    "#                 ps = torch.exp(log_ps)\n",
    "#                 top_p, top_class = ps.topk(1, dim=1)\n",
    "#                 equals = top_class == labels.view(*top_class.shape)\n",
    "#                 accuracy += torch.mean(equals.type(torch.FloatTensor))\n",
    "                \n",
    "        # set model back to training mode\n",
    "        model.train()\n",
    "        \n",
    "        train_losses.append(running_loss/len(train_loader))\n",
    "        test_losses.append(valid_loss/len(valid_loader))\n",
    "\n",
    "        print(\"Epoch: {}/{}.. \".format(e+1, epochs),\n",
    "              \"Training Loss: {:.3f}.. \".format(running_loss/len(train_loader)),\n",
    "              \"Test Loss: {:.3f}.. \".format(valid_loss/len(valid_loader)))\n",
    "#               \"Test Accuracy: {:.3f}\".format(accuracy/len(valid_loader)))\n"
   ]
  },
  {
   "cell_type": "code",
   "execution_count": 47,
   "metadata": {
    "ExecuteTime": {
     "end_time": "2019-04-08T11:22:24.364852Z",
     "start_time": "2019-04-08T11:22:24.231183Z"
    },
    "scrolled": true
   },
   "outputs": [
    {
     "data": {
      "text/plain": [
       "<matplotlib.legend.Legend at 0x7f24aa1d15f8>"
      ]
     },
     "execution_count": 47,
     "metadata": {},
     "output_type": "execute_result"
    },
    {
     "data": {
      "image/png": "[encoded data removed]",
      "text/plain": [
       "<Figure size 432x288 with 1 Axes>"
      ]
     },
     "metadata": {
      "needs_background": "light"
     },
     "output_type": "display_data"
    }
   ],
   "source": [
    "plt.plot(train_losses, label='Training loss')\n",
    "plt.plot(test_losses, label='Validation loss')\n",
    "plt.legend(frameon=False)"
   ]
  },
  {
   "cell_type": "markdown",
   "metadata": {},
   "source": [
    "# Testing"
   ]
  },
  {
   "cell_type": "code",
   "execution_count": 49,
   "metadata": {
    "ExecuteTime": {
     "end_time": "2019-04-08T11:23:11.751602Z",
     "start_time": "2019-04-08T11:23:11.346123Z"
    }
   },
   "outputs": [
    {
     "data": {
      "text/plain": [
       "(2000, 784)"
      ]
     },
     "execution_count": 49,
     "metadata": {},
     "output_type": "execute_result"
    }
   ],
   "source": [
    "# load testing data\n",
    "with open('./Vision_task_dataset_public/test_image.pkl', 'rb') as f:\n",
    "    test = pickle.load(f)\n",
    "test = np.array(test)\n",
    "test.shape"
   ]
  },
  {
   "cell_type": "code",
   "execution_count": 50,
   "metadata": {
    "ExecuteTime": {
     "end_time": "2019-04-08T11:23:12.770274Z",
     "start_time": "2019-04-08T11:23:12.747243Z"
    }
   },
   "outputs": [],
   "source": [
    "# convert into pytorch tensor\n",
    "test = torch.stack([torch.from_numpy(np.array(i)) for i in test])"
   ]
  },
  {
   "cell_type": "code",
   "execution_count": 51,
   "metadata": {
    "ExecuteTime": {
     "end_time": "2019-04-08T11:23:23.085371Z",
     "start_time": "2019-04-08T11:23:23.074069Z"
    }
   },
   "outputs": [
    {
     "data": {
      "text/plain": [
       "(torch.Size([2000, 1, 28, 28]), torch.float32)"
      ]
     },
     "execution_count": 51,
     "metadata": {},
     "output_type": "execute_result"
    }
   ],
   "source": [
    "# reshape into [B, C, H, W]\n",
    "test = test.reshape((-1, 1, 28, 28)).float()\n",
    "test.shape, test.dtype"
   ]
  },
  {
   "cell_type": "markdown",
   "metadata": {},
   "source": [
    "<div style=\"color:blue\">Check prediction on single image</div>"
   ]
  },
  {
   "cell_type": "code",
   "execution_count": 123,
   "metadata": {
    "ExecuteTime": {
     "end_time": "2019-04-08T11:52:44.209477Z",
     "start_time": "2019-04-08T11:52:44.063347Z"
    }
   },
   "outputs": [
    {
     "data": {
      "text/plain": [
       "<matplotlib.image.AxesImage at 0x7f24a9169e80>"
      ]
     },
     "execution_count": 123,
     "metadata": {},
     "output_type": "execute_result"
    },
    {
     "data": {
      "image/png": "[encoded data removed]",
      "text/plain": [
       "<Figure size 432x288 with 1 Axes>"
      ]
     },
     "metadata": {
      "needs_background": "light"
     },
     "output_type": "display_data"
    }
   ],
   "source": [
    "plt.imshow(test[0].reshape(1, 28, 28).squeeze(), cmap='Greys_r')"
   ]
  },
  {
   "cell_type": "code",
   "execution_count": 109,
   "metadata": {
    "ExecuteTime": {
     "end_time": "2019-04-08T11:45:42.969030Z",
     "start_time": "2019-04-08T11:45:42.958812Z"
    },
    "scrolled": true
   },
   "outputs": [
    {
     "data": {
      "text/plain": [
       "0"
      ]
     },
     "execution_count": 109,
     "metadata": {},
     "output_type": "execute_result"
    }
   ],
   "source": [
    "# convert output probabilities to predicted class\n",
    "_, preds = torch.max(model(test[0].unsqueeze_(0)), 1)\n",
    "preds.item()"
   ]
  },
  {
   "cell_type": "markdown",
   "metadata": {},
   "source": [
    "Looks like the correct predicted value!  \n",
    "\n",
    "**<div style=\"color:blue\">Prediction on all test images</div>**"
   ]
  },
  {
   "cell_type": "code",
   "execution_count": 119,
   "metadata": {
    "ExecuteTime": {
     "end_time": "2019-04-08T11:50:07.704434Z",
     "start_time": "2019-04-08T11:50:07.268937Z"
    },
    "code_folding": []
   },
   "outputs": [],
   "source": [
    "result = []\n",
    "for i in range(len(test)):\n",
    "    _, preds = torch.max(model(test[i].unsqueeze_(0)), 1)\n",
    "    result.append(preds.item())\n",
    "result = np.array(result)"
   ]
  },
  {
   "cell_type": "code",
   "execution_count": 120,
   "metadata": {
    "ExecuteTime": {
     "end_time": "2019-04-08T11:50:08.328449Z",
     "start_time": "2019-04-08T11:50:08.324130Z"
    }
   },
   "outputs": [
    {
     "data": {
      "text/plain": [
       "array([0, 0, 0, 0, 0, 0, 0, 0, 0, 3, 0, 0, 3, 0, 0, 3, 0, 0, 0, 0, 0, 0,\n",
       "       0, 0, 0, 0, 0, 0, 0, 0, 0, 0, 0, 0, 3, 0, 0, 3, 0, 0, 3, 0, 0, 0,\n",
       "       0, 0, 0, 1, 0, 0, 0, 0, 0, 0, 0, 0, 2, 0, 0, 0, 2, 0, 0, 0, 0, 0,\n",
       "       0, 0, 0, 0, 0, 0, 0, 0, 3, 0, 0, 0, 0, 0, 0, 0, 0, 0, 0, 0, 0, 2,\n",
       "       0, 0, 0, 0, 2, 0, 0, 0, 0, 0, 3, 3, 0, 3, 0, 0, 0, 3, 3, 3, 3, 0,\n",
       "       0, 0, 0, 0, 2, 3, 0, 0, 0, 0, 0, 0, 0, 0, 0, 3, 3, 0, 0, 0, 0, 0,\n",
       "       0, 0, 0, 3, 0, 0, 0, 0, 0, 0, 2, 0, 0, 0, 0, 0, 0, 0, 0, 0, 3, 0,\n",
       "       0, 0, 0, 0, 0, 0, 3, 0, 0, 0, 0, 0, 3, 0, 0, 0, 0, 0, 0, 0, 0, 0,\n",
       "       0, 0, 0, 0, 0, 0, 0, 0, 0, 3, 0, 3, 0, 3, 0, 0, 0, 0, 0, 0, 0, 0,\n",
       "       0, 0, 0, 0, 0, 0, 0, 0, 0, 0, 0, 0, 0, 0, 0, 0, 0, 0, 0, 0, 0, 0,\n",
       "       0, 0, 0, 0, 0, 3, 0, 0, 0, 0, 0, 0, 0, 0, 0, 0, 0, 0, 0, 0, 0, 0,\n",
       "       0, 0, 0, 0, 0, 0, 3, 0, 0, 3, 0, 0, 3, 0, 0, 0, 0, 0, 0, 0, 0, 0,\n",
       "       3, 3, 0, 0, 0, 0, 0, 0, 1, 0, 0, 0, 0, 0, 0, 0, 0, 0, 0, 0, 0, 3,\n",
       "       0, 0, 3, 0, 2, 3, 0, 0, 0, 1, 0, 0, 0, 0])"
      ]
     },
     "execution_count": 120,
     "metadata": {},
     "output_type": "execute_result"
    }
   ],
   "source": [
    "result[:300]"
   ]
  },
  {
   "cell_type": "markdown",
   "metadata": {},
   "source": [
    "**Convert labels back to 6, 3, 2, and 0 from 3, 2, 1, and 0 respectively.**"
   ]
  },
  {
   "cell_type": "code",
   "execution_count": 121,
   "metadata": {
    "ExecuteTime": {
     "end_time": "2019-04-08T11:50:19.955992Z",
     "start_time": "2019-04-08T11:50:19.951219Z"
    }
   },
   "outputs": [],
   "source": [
    "result[result == 3] = 6\n",
    "result[result == 2] = 3\n",
    "result[result == 1] = 2"
   ]
  },
  {
   "cell_type": "code",
   "execution_count": 122,
   "metadata": {
    "ExecuteTime": {
     "end_time": "2019-04-08T11:50:20.591345Z",
     "start_time": "2019-04-08T11:50:20.583272Z"
    }
   },
   "outputs": [
    {
     "data": {
      "text/plain": [
       "array([0, 0, 0, 0, 0, 0, 0, 0, 0, 6, 0, 0, 6, 0, 0, 6, 0, 0, 0, 0, 0, 0,\n",
       "       0, 0, 0, 0, 0, 0, 0, 0, 0, 0, 0, 0, 6, 0, 0, 6, 0, 0, 6, 0, 0, 0,\n",
       "       0, 0, 0, 2, 0, 0, 0, 0, 0, 0, 0, 0, 3, 0, 0, 0, 3, 0, 0, 0, 0, 0,\n",
       "       0, 0, 0, 0, 0, 0, 0, 0, 6, 0, 0, 0, 0, 0, 0, 0, 0, 0, 0, 0, 0, 3,\n",
       "       0, 0, 0, 0, 3, 0, 0, 0, 0, 0, 6, 6, 0, 6, 0, 0, 0, 6, 6, 6, 6, 0,\n",
       "       0, 0, 0, 0, 3, 6, 0, 0, 0, 0, 0, 0, 0, 0, 0, 6, 6, 0, 0, 0, 0, 0,\n",
       "       0, 0, 0, 6, 0, 0, 0, 0, 0, 0, 3, 0, 0, 0, 0, 0, 0, 0, 0, 0, 6, 0,\n",
       "       0, 0, 0, 0, 0, 0, 6, 0, 0, 0, 0, 0, 6, 0, 0, 0, 0, 0, 0, 0, 0, 0,\n",
       "       0, 0, 0, 0, 0, 0, 0, 0, 0, 6, 0, 6, 0, 6, 0, 0, 0, 0, 0, 0, 0, 0,\n",
       "       0, 0, 0, 0, 0, 0, 0, 0, 0, 0, 0, 0, 0, 0, 0, 0, 0, 0, 0, 0, 0, 0,\n",
       "       0, 0, 0, 0, 0, 6, 0, 0, 0, 0, 0, 0, 0, 0, 0, 0, 0, 0, 0, 0, 0, 0,\n",
       "       0, 0, 0, 0, 0, 0, 6, 0, 0, 6, 0, 0, 6, 0, 0, 0, 0, 0, 0, 0, 0, 0,\n",
       "       6, 6, 0, 0, 0, 0, 0, 0, 2, 0, 0, 0, 0, 0, 0, 0, 0, 0, 0, 0, 0, 6,\n",
       "       0, 0, 6, 0, 3, 6, 0, 0, 0, 2, 0, 0, 0, 0])"
      ]
     },
     "execution_count": 122,
     "metadata": {},
     "output_type": "execute_result"
    }
   ],
   "source": [
    "result[:300]"
   ]
  },
  {
   "cell_type": "code",
   "execution_count": 144,
   "metadata": {
    "ExecuteTime": {
     "end_time": "2019-04-08T12:15:53.311515Z",
     "start_time": "2019-04-08T12:15:53.308685Z"
    }
   },
   "outputs": [],
   "source": [
    "rows = zip(range(len(result)), result)"
   ]
  },
  {
   "cell_type": "code",
   "execution_count": 145,
   "metadata": {
    "ExecuteTime": {
     "end_time": "2019-04-08T12:15:53.763339Z",
     "start_time": "2019-04-08T12:15:53.749603Z"
    }
   },
   "outputs": [],
   "source": [
    "with open('harshitkumar.csv', 'w') as f:\n",
    "    writer = csv.writer(f)\n",
    "    writer.writerow(['image_index', 'class'])\n",
    "    for row in rows:\n",
    "        writer.writerow(row)"
   ]
  },
  {
   "cell_type": "code",
   "execution_count": null,
   "metadata": {},
   "outputs": [],
   "source": []
  }
 ],
 "metadata": {
  "kernelspec": {
   "display_name": "Python 3",
   "language": "python",
   "name": "python3"
  },
  "varInspector": {
   "cols": {
    "lenName": 16,
    "lenType": 16,
    "lenVar": 40
   },
   "kernels_config": {
    "python": {
     "delete_cmd_postfix": "",
     "delete_cmd_prefix": "del ",
     "library": "var_list.py",
     "varRefreshCmd": "print(var_dic_list())"
    },
    "r": {
     "delete_cmd_postfix": ") ",
     "delete_cmd_prefix": "rm(",
     "library": "var_list.r",
     "varRefreshCmd": "cat(var_dic_list()) "
    }
   },
   "types_to_exclude": [
    "module",
    "function",
    "builtin_function_or_method",
    "instance",
    "_Feature"
   ],
   "window_display": false
  }
 },
 "nbformat": 4,
 "nbformat_minor": 2
}
